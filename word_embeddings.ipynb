{
  "cells": [
    {
      "cell_type": "code",
      "execution_count": 116,
      "metadata": {
        "colab": {
          "base_uri": "https://localhost:8080/"
        },
        "id": "eK2p8A6RlCjC",
        "outputId": "66708e80-5781-4029-b3b7-36d59d0338c9"
      },
      "outputs": [
        {
          "name": "stderr",
          "output_type": "stream",
          "text": [
            "Warning : `load_model` does not return WordVectorModel or SupervisedModel any more, but a `FastText` object which is very similar.\n"
          ]
        }
      ],
      "source": [
        "# !pip install fasttext\n",
        "# Word Embedding using FastText\n",
        "import fasttext.util\n",
        "fasttext.util.download_model('ar', if_exists='ignore')  \n",
        "ft = fasttext.load_model('cc.ar.300.bin')"
      ]
    },
    {
      "cell_type": "code",
      "execution_count": 117,
      "metadata": {
        "colab": {
          "base_uri": "https://localhost:8080/",
          "height": 200
        },
        "id": "0AzpB7X20nQv",
        "outputId": "6659e656-de3e-4ce4-8a06-5e6db1fee7d9"
      },
      "outputs": [
        {
          "name": "stdout",
          "output_type": "stream",
          "text": [
            "300\n",
            "100\n"
          ]
        }
      ],
      "source": [
        "print(ft.get_dimension())\n",
        "# reduce the dimension of the word embedding from 300 to 100\n",
        "fasttext.util.reduce_model(ft, 100)\n",
        "print(ft.get_dimension())"
      ]
    },
    {
      "cell_type": "code",
      "execution_count": 118,
      "metadata": {
        "colab": {
          "base_uri": "https://localhost:8080/"
        },
        "id": "kihZk8Y-4tgH",
        "outputId": "fb30bac3-67ee-4154-bc2e-8b26491f210a"
      },
      "outputs": [
        {
          "name": "stdout",
          "output_type": "stream",
          "text": [
            "[-0.01018494 -0.08594008 -0.03731866 -0.00024127  0.04777642 -0.00496229\n",
            "  0.06186691  0.02239722 -0.0280445   0.04849716 -0.00795461 -0.02634357\n",
            "  0.01323329 -0.02175279  0.03655794 -0.01601862 -0.01084875  0.01393491\n",
            " -0.03315404  0.0335445   0.01913922 -0.02036594 -0.00192303 -0.00421568\n",
            "  0.01183395  0.01175373 -0.07322915  0.08777917  0.00460946 -0.05397879\n",
            " -0.04420993 -0.01738087 -0.01531424 -0.02648391  0.05191071 -0.06218194\n",
            "  0.03248445 -0.03084662  0.02021079 -0.03369771 -0.01912928  0.00776838\n",
            " -0.02871501  0.00045804  0.01323607  0.01341687  0.03769046 -0.00100606\n",
            "  0.03073437 -0.02756213  0.02987276  0.00607357 -0.0034104   0.00598877\n",
            " -0.04017798 -0.02268266  0.04346691 -0.00163789  0.03622608  0.00370311\n",
            " -0.03838527  0.01520885  0.00647131 -0.02734641  0.01213152  0.03940092\n",
            "  0.04791509 -0.01371275 -0.00985732 -0.00985206  0.04072648 -0.01279194\n",
            "  0.02949059  0.0199767   0.01000008  0.0091176  -0.03566917  0.03153419\n",
            " -0.05023986 -0.02361483  0.04186894  0.01141178 -0.01122559  0.00246087\n",
            " -0.02246428 -0.03210542 -0.01676525  0.00943948 -0.02476867  0.00366258\n",
            " -0.01090576 -0.03253023 -0.01524031  0.03003313 -0.00507037 -0.02867209\n",
            "  0.0299578   0.04028277 -0.03969923  0.0278273 ]\n",
            "(100,)\n"
          ]
        }
      ],
      "source": [
        "print(ft.get_word_vector('الشوق شوق')) \n",
        "print(ft.get_word_vector('الشوق شوق').shape)"
      ]
    },
    {
      "cell_type": "code",
      "execution_count": 119,
      "metadata": {
        "id": "uX5cElIU8FI1"
      },
      "outputs": [],
      "source": [
        "import pandas as pd\n",
        "from sklearn.model_selection import train_test_split\n",
        "from sklearn import svm\n",
        "from sklearn.pipeline import Pipeline\n",
        "from sklearn.metrics import classification_report\n",
        "from sklearn.feature_extraction.text import TfidfVectorizer\n",
        "from sklearn.naive_bayes import MultinomialNB\n",
        "from sklearn.ensemble import RandomForestClassifier\n",
        "from sklearn.decomposition import PCA\n",
        "import tensorflow as tf\n",
        "from tensorflow.keras.utils import to_categorical\n",
        "from tensorflow.keras.models import Sequential\n",
        "from tensorflow.keras.layers import Dense, LSTM, SimpleRNN, Dropout\n",
        "from tensorflow.keras.optimizers import Adam\n",
        "from scipy.stats import skew\n",
        "import matplotlib.pyplot as plt\n",
        "import numpy as np"
      ]
    },
    {
      "cell_type": "code",
      "execution_count": 120,
      "metadata": {
        "colab": {
          "base_uri": "https://localhost:8080/",
          "height": 223
        },
        "id": "y0JN8uMI5JKY",
        "outputId": "79da4f5d-0846-4711-9aaa-e1c092db9b2a"
      },
      "outputs": [
        {
          "name": "stdout",
          "output_type": "stream",
          "text": [
            "(6988, 3)\n"
          ]
        },
        {
          "data": {
            "text/html": [
              "<div>\n",
              "<style scoped>\n",
              "    .dataframe tbody tr th:only-of-type {\n",
              "        vertical-align: middle;\n",
              "    }\n",
              "\n",
              "    .dataframe tbody tr th {\n",
              "        vertical-align: top;\n",
              "    }\n",
              "\n",
              "    .dataframe thead th {\n",
              "        text-align: right;\n",
              "    }\n",
              "</style>\n",
              "<table border=\"1\" class=\"dataframe\">\n",
              "  <thead>\n",
              "    <tr style=\"text-align: right;\">\n",
              "      <th></th>\n",
              "      <th>text</th>\n",
              "      <th>category</th>\n",
              "      <th>stance</th>\n",
              "    </tr>\n",
              "  </thead>\n",
              "  <tbody>\n",
              "    <tr>\n",
              "      <th>0</th>\n",
              "      <td>بيل غيتس تلقي لقاح كوفيد19 من غير تصوير ابر و ...</td>\n",
              "      <td>celebrity</td>\n",
              "      <td>1</td>\n",
              "    </tr>\n",
              "    <tr>\n",
              "      <th>1</th>\n",
              "      <td>وزير صح حد يوم تحديد هل بمؤتمروا صحفي كان ما ع...</td>\n",
              "      <td>info_news</td>\n",
              "      <td>1</td>\n",
              "    </tr>\n",
              "    <tr>\n",
              "      <th>2</th>\n",
              "      <td>قول رح يكونو اد مسؤولي ب لبنان ما وصل لقاح ؟ ا...</td>\n",
              "      <td>info_news</td>\n",
              "      <td>1</td>\n",
              "    </tr>\n",
              "    <tr>\n",
              "      <th>3</th>\n",
              "      <td>تركيا . . وزير صح فخر دين قوجة تلقي اول جرع من...</td>\n",
              "      <td>celebrity</td>\n",
              "      <td>1</td>\n",
              "    </tr>\n",
              "    <tr>\n",
              "      <th>4</th>\n",
              "      <td>وئام وهاب شتم دول خليجي في كل طل اعلامي تسافه ...</td>\n",
              "      <td>personal</td>\n",
              "      <td>0</td>\n",
              "    </tr>\n",
              "  </tbody>\n",
              "</table>\n",
              "</div>"
            ],
            "text/plain": [
              "                                                text   category  stance\n",
              "0  بيل غيتس تلقي لقاح كوفيد19 من غير تصوير ابر و ...  celebrity       1\n",
              "1  وزير صح حد يوم تحديد هل بمؤتمروا صحفي كان ما ع...  info_news       1\n",
              "2  قول رح يكونو اد مسؤولي ب لبنان ما وصل لقاح ؟ ا...  info_news       1\n",
              "3  تركيا . . وزير صح فخر دين قوجة تلقي اول جرع من...  celebrity       1\n",
              "4  وئام وهاب شتم دول خليجي في كل طل اعلامي تسافه ...   personal       0"
            ]
          },
          "execution_count": 120,
          "metadata": {},
          "output_type": "execute_result"
        }
      ],
      "source": [
        "df_train = pd.read_csv('./Dataset/cleaned_train.csv')\n",
        "print(df_train.shape)\n",
        "df_train.head()"
      ]
    },
    {
      "cell_type": "code",
      "execution_count": null,
      "metadata": {},
      "outputs": [],
      "source": [
        "df_dev = pd.read_csv('./Dataset/cleaned_dev.csv')\n",
        "print(df_dev.shape)\n",
        "df_dev.head()"
      ]
    },
    {
      "cell_type": "code",
      "execution_count": 121,
      "metadata": {
        "colab": {
          "base_uri": "https://localhost:8080/"
        },
        "id": "OxYcmG0-Mxbq",
        "outputId": "f12ad80e-2bc5-4737-d067-d66159050dc1"
      },
      "outputs": [
        {
          "name": "stdout",
          "output_type": "stream",
          "text": [
            "137\n",
            "count    6988.000000\n",
            "mean       25.166714\n",
            "std        14.403391\n",
            "min         2.000000\n",
            "25%        14.000000\n",
            "50%        20.000000\n",
            "75%        36.000000\n",
            "max       137.000000\n",
            "dtype: float64\n"
          ]
        }
      ],
      "source": [
        "MAX_TWEET_LENGTH = -1\n",
        "for tweet in df_train['cleaned_text']:\n",
        "  tweet_arr = tweet.split(' ')\n",
        "  MAX_TWEET_LENGTH = max(MAX_TWEET_LENGTH, len(tweet_arr))\n",
        "print(MAX_TWEET_LENGTH)\n",
        "print(pd.Series([len(x.split(' ')) for x in df_train['cleaned_text']]).describe())"
      ]
    },
    {
      "cell_type": "code",
      "execution_count": 122,
      "metadata": {
        "id": "QeQZ4nR-8XBe"
      },
      "outputs": [
        {
          "name": "stdout",
          "output_type": "stream",
          "text": [
            "(6988, 13700)\n"
          ]
        }
      ],
      "source": [
        "def embedded(text):\n",
        "  embedded_text = np.zeros((len(text),MAX_TWEET_LENGTH*100))\n",
        "  print(embedded_text.shape)\n",
        "  for i,tweet in enumerate(text):\n",
        "    sentence_embedding = np.array([[]])\n",
        "    for word in tweet.split(\" \"):\n",
        "      sentence_embedding = np.append(sentence_embedding, ft.get_word_vector(word))\n",
        "    sentence_embedding.resize(MAX_TWEET_LENGTH*100)\n",
        "    embedded_text[i] = sentence_embedding\n",
        "  return embedded_text"
      ]
    },
    {
      "cell_type": "code",
      "execution_count": 123,
      "metadata": {
        "id": "fDWFQW-n8Qo5"
      },
      "outputs": [
        {
          "name": "stdout",
          "output_type": "stream",
          "text": [
            "(4891, 13700)\n",
            "(2097, 13700)\n",
            "(4891,)\n",
            "(2097,)\n",
            "(4891,)\n",
            "(2097,)\n",
            " 1    3876\n",
            " 0     708\n",
            "-1     307\n",
            "Name: stance, dtype: int64\n",
            " 1    1662\n",
            " 0     304\n",
            "-1     131\n",
            "Name: stance, dtype: int64\n",
            "info_news       2542\n",
            "personal         704\n",
            "celebrity        669\n",
            "plan             434\n",
            "unrelated        216\n",
            "others           132\n",
            "requests          82\n",
            "rumors            55\n",
            "advice            47\n",
            "restrictions      10\n",
            "Name: category, dtype: int64\n",
            "info_news       1074\n",
            "personal         321\n",
            "celebrity        306\n",
            "plan             172\n",
            "unrelated        107\n",
            "others            35\n",
            "requests          30\n",
            "rumors            24\n",
            "advice            20\n",
            "restrictions       8\n",
            "Name: category, dtype: int64\n"
          ]
        }
      ],
      "source": [
        "x_train = embedded(df_train['cleaned_text'])\n",
        "x_test = embedded(df_dev['cleaned_text'])\n",
        "y_train_stance = df_train['stance']\n",
        "y_test_stance = df_dev['stance']\n",
        "y_train_cat = df_train['category']\n",
        "y_test_cat = df_dev['category']\n",
        "\n",
        "print(x_train.shape)\n",
        "print(x_test.shape)\n",
        "print(y_train_stance.shape)\n",
        "print(y_test_stance.shape)\n",
        "print(y_train_cat.shape)\n",
        "print(y_test_cat.shape)\n",
        "print(y_train_stance.value_counts())\n",
        "print(y_test_stance.value_counts())\n",
        "print(y_train_cat.value_counts())\n",
        "print(y_test_cat.value_counts())"
      ]
    },
    {
      "cell_type": "code",
      "execution_count": 124,
      "metadata": {},
      "outputs": [],
      "source": [
        "# PCA \n",
        "# x_train = PCA(n_components=100).fit_transform(x_train)\n",
        "# PCA_test = PCA(n_components=100).fit(x_test_stance)\n",
        "# x_test_stance = PCA_test.transform(x_test_stance)"
      ]
    },
    {
      "cell_type": "code",
      "execution_count": 125,
      "metadata": {},
      "outputs": [],
      "source": [
        "y_train_stance = np.array(y_train_stance)\n",
        "y_test_stance = np.array(y_test_stance)\n",
        "y_train_cat = np.array(y_train_cat)\n",
        "y_test_cat = np.array(y_test_cat)"
      ]
    },
    {
      "attachments": {},
      "cell_type": "markdown",
      "metadata": {},
      "source": [
        "# Random Forest"
      ]
    },
    {
      "cell_type": "code",
      "execution_count": 126,
      "metadata": {
        "id": "TVnpIL2s_eNp"
      },
      "outputs": [
        {
          "name": "stdout",
          "output_type": "stream",
          "text": [
            "              precision    recall  f1-score   support\n",
            "\n",
            "          -1       0.53      0.07      0.12       131\n",
            "           0       0.63      0.06      0.10       304\n",
            "           1       0.80      0.99      0.89      1662\n",
            "\n",
            "    accuracy                           0.80      2097\n",
            "   macro avg       0.65      0.37      0.37      2097\n",
            "weighted avg       0.76      0.80      0.73      2097\n",
            "\n"
          ]
        }
      ],
      "source": [
        "# Random Forest on stance\n",
        "clf = RandomForestClassifier(n_estimators=100, random_state=2002)\n",
        "clf.fit(x_train, y_train_stance)\n",
        "y_pred = clf.predict(x_test)\n",
        "print(classification_report(y_test_stance, y_pred))"
      ]
    },
    {
      "cell_type": "code",
      "execution_count": 127,
      "metadata": {},
      "outputs": [
        {
          "name": "stdout",
          "output_type": "stream",
          "text": [
            "              precision    recall  f1-score   support\n",
            "\n",
            "      advice       0.00      0.00      0.00        20\n",
            "   celebrity       0.88      0.44      0.59       306\n",
            "   info_news       0.56      0.96      0.70      1074\n",
            "      others       0.00      0.00      0.00        35\n",
            "    personal       0.56      0.10      0.17       321\n",
            "        plan       0.29      0.02      0.04       172\n",
            "    requests       0.38      0.10      0.16        30\n",
            "restrictions       0.00      0.00      0.00         8\n",
            "      rumors       0.00      0.00      0.00        24\n",
            "   unrelated       0.71      0.09      0.17       107\n",
            "\n",
            "    accuracy                           0.58      2097\n",
            "   macro avg       0.34      0.17      0.18      2097\n",
            "weighted avg       0.57      0.58      0.49      2097\n",
            "\n"
          ]
        },
        {
          "name": "stderr",
          "output_type": "stream",
          "text": [
            "c:\\ProgramData\\Anaconda3\\lib\\site-packages\\sklearn\\metrics\\_classification.py:1344: UndefinedMetricWarning: Precision and F-score are ill-defined and being set to 0.0 in labels with no predicted samples. Use `zero_division` parameter to control this behavior.\n",
            "  _warn_prf(average, modifier, msg_start, len(result))\n",
            "c:\\ProgramData\\Anaconda3\\lib\\site-packages\\sklearn\\metrics\\_classification.py:1344: UndefinedMetricWarning: Precision and F-score are ill-defined and being set to 0.0 in labels with no predicted samples. Use `zero_division` parameter to control this behavior.\n",
            "  _warn_prf(average, modifier, msg_start, len(result))\n",
            "c:\\ProgramData\\Anaconda3\\lib\\site-packages\\sklearn\\metrics\\_classification.py:1344: UndefinedMetricWarning: Precision and F-score are ill-defined and being set to 0.0 in labels with no predicted samples. Use `zero_division` parameter to control this behavior.\n",
            "  _warn_prf(average, modifier, msg_start, len(result))\n"
          ]
        }
      ],
      "source": [
        "# Random Forest on category\n",
        "clf = RandomForestClassifier(n_estimators=100, random_state=2002)\n",
        "clf.fit(x_train, y_train_cat)\n",
        "y_pred = clf.predict(x_test)\n",
        "print(classification_report(y_test_cat, y_pred))"
      ]
    },
    {
      "attachments": {},
      "cell_type": "markdown",
      "metadata": {},
      "source": [
        "# SVM"
      ]
    },
    {
      "cell_type": "code",
      "execution_count": 128,
      "metadata": {},
      "outputs": [
        {
          "name": "stdout",
          "output_type": "stream",
          "text": [
            "              precision    recall  f1-score   support\n",
            "\n",
            "          -1       0.21      0.24      0.23       131\n",
            "           0       0.33      0.31      0.32       304\n",
            "           1       0.85      0.85      0.85      1662\n",
            "\n",
            "    accuracy                           0.73      2097\n",
            "   macro avg       0.46      0.47      0.46      2097\n",
            "weighted avg       0.73      0.73      0.73      2097\n",
            "\n"
          ]
        }
      ],
      "source": [
        "# SVM on stance\n",
        "clf = svm.SVC(kernel='linear', C=1.0, probability=True)\n",
        "clf.fit(x_train, y_train_stance)\n",
        "y_pred = clf.predict(x_test)\n",
        "print(classification_report(y_test_stance, y_pred))"
      ]
    },
    {
      "cell_type": "code",
      "execution_count": 129,
      "metadata": {},
      "outputs": [
        {
          "name": "stdout",
          "output_type": "stream",
          "text": [
            "              precision    recall  f1-score   support\n",
            "\n",
            "      advice       0.00      0.00      0.00        20\n",
            "   celebrity       0.61      0.65      0.63       306\n",
            "   info_news       0.63      0.70      0.66      1074\n",
            "      others       0.03      0.03      0.03        35\n",
            "    personal       0.46      0.42      0.44       321\n",
            "        plan       0.21      0.19      0.20       172\n",
            "    requests       0.26      0.23      0.25        30\n",
            "restrictions       0.00      0.00      0.00         8\n",
            "      rumors       0.10      0.04      0.06        24\n",
            "   unrelated       0.32      0.17      0.22       107\n",
            "\n",
            "    accuracy                           0.54      2097\n",
            "   macro avg       0.26      0.24      0.25      2097\n",
            "weighted avg       0.52      0.54      0.53      2097\n",
            "\n"
          ]
        },
        {
          "name": "stderr",
          "output_type": "stream",
          "text": [
            "c:\\ProgramData\\Anaconda3\\lib\\site-packages\\sklearn\\metrics\\_classification.py:1344: UndefinedMetricWarning: Precision and F-score are ill-defined and being set to 0.0 in labels with no predicted samples. Use `zero_division` parameter to control this behavior.\n",
            "  _warn_prf(average, modifier, msg_start, len(result))\n",
            "c:\\ProgramData\\Anaconda3\\lib\\site-packages\\sklearn\\metrics\\_classification.py:1344: UndefinedMetricWarning: Precision and F-score are ill-defined and being set to 0.0 in labels with no predicted samples. Use `zero_division` parameter to control this behavior.\n",
            "  _warn_prf(average, modifier, msg_start, len(result))\n",
            "c:\\ProgramData\\Anaconda3\\lib\\site-packages\\sklearn\\metrics\\_classification.py:1344: UndefinedMetricWarning: Precision and F-score are ill-defined and being set to 0.0 in labels with no predicted samples. Use `zero_division` parameter to control this behavior.\n",
            "  _warn_prf(average, modifier, msg_start, len(result))\n"
          ]
        }
      ],
      "source": [
        "# SVM on category\n",
        "clf = svm.SVC(kernel='linear', C=1.0, probability=True)\n",
        "clf.fit(x_train, y_train_cat)\n",
        "y_pred = clf.predict(x_test)\n",
        "print(classification_report(y_test_cat, y_pred))"
      ]
    },
    {
      "cell_type": "code",
      "execution_count": 130,
      "metadata": {},
      "outputs": [
        {
          "name": "stdout",
          "output_type": "stream",
          "text": [
            "(4891, 137, 100)\n",
            "(2097, 137, 100)\n"
          ]
        }
      ],
      "source": [
        "x_train = x_train.reshape(x_train.shape[0],MAX_TWEET_LENGTH,100)\n",
        "x_test = x_test.reshape(x_test.shape[0],MAX_TWEET_LENGTH,100)\n",
        "print(x_train.shape)\n",
        "print(x_test.shape)"
      ]
    },
    {
      "cell_type": "code",
      "execution_count": 131,
      "metadata": {},
      "outputs": [
        {
          "name": "stdout",
          "output_type": "stream",
          "text": [
            "2\n",
            "(4891,)\n",
            "(4891, 3)\n"
          ]
        }
      ],
      "source": [
        "y_train_stance = y_train_stance + 1\n",
        "# squeeze the last dimension of y_train\n",
        "y_train_stance = np.squeeze(y_train_stance)\n",
        "print(y_train_stance[0])\n",
        "print(y_train_stance.shape)\n",
        "y_train_stance = to_categorical(y_train_stance, 3)\n",
        "print(y_train_stance.shape)"
      ]
    },
    {
      "cell_type": "code",
      "execution_count": 132,
      "metadata": {},
      "outputs": [
        {
          "name": "stdout",
          "output_type": "stream",
          "text": [
            "info_news\n",
            "2.0\n",
            "(4891, 10)\n"
          ]
        }
      ],
      "source": [
        "def map_category_to_int(category):\n",
        "    y_cat = np.zeros(category.shape)\n",
        "    # advice = 0, celebrity = 1, info_news = 2, others = 3, personal = 4, plan = 5, requests = 6, restrictions = 7, rumors = 8, unrelated = 9\n",
        "    for i,cat in enumerate(category):\n",
        "        if cat == 'advice':\n",
        "            y_cat[i] = 0\n",
        "        elif cat == 'celebrity':\n",
        "            y_cat[i] = 1\n",
        "        elif cat == 'info_news':\n",
        "            y_cat[i] = 2\n",
        "        elif cat == 'others':\n",
        "            y_cat[i] = 3\n",
        "        elif cat == 'personal':\n",
        "            y_cat[i] = 4\n",
        "        elif cat == 'plan':\n",
        "            y_cat[i] = 5\n",
        "        elif cat == 'requests':\n",
        "            y_cat[i] = 6\n",
        "        elif cat == 'restrictions':\n",
        "            y_cat[i] = 7\n",
        "        elif cat == 'rumors':\n",
        "            y_cat[i] = 8\n",
        "        elif cat == 'unrelated':\n",
        "            y_cat[i] = 9\n",
        "    return y_cat\n",
        "\n",
        "\n",
        "print(y_train_cat[0])\n",
        "y_train_cat_int = map_category_to_int(y_train_cat)\n",
        "print(y_train_cat_int[0])\n",
        "y_train_cat_int = to_categorical(y_train_cat_int, 10)\n",
        "print(y_train_cat_int.shape)"
      ]
    },
    {
      "cell_type": "code",
      "execution_count": 133,
      "metadata": {},
      "outputs": [],
      "source": [
        "def map_int_to_category(y_cat):\n",
        "    category = []\n",
        "    for i,cat in enumerate(y_cat):\n",
        "        if cat == 0:\n",
        "            category.append('advice')\n",
        "        elif cat == 1:\n",
        "            category.append('celebrity')\n",
        "        elif cat == 2:\n",
        "            category.append('info_news')\n",
        "        elif cat == 3:\n",
        "            category.append('others')\n",
        "        elif cat == 4:\n",
        "            category.append('personal')\n",
        "        elif cat == 5:\n",
        "            category.append('plan')\n",
        "        elif cat == 6:\n",
        "            category.append('requests')\n",
        "        elif cat == 7:\n",
        "            category.append('restrictions')\n",
        "        elif cat == 8:\n",
        "            category.append('rumors')\n",
        "        elif cat == 9:\n",
        "            category.append('unrelated')\n",
        "    return category"
      ]
    },
    {
      "attachments": {},
      "cell_type": "markdown",
      "metadata": {},
      "source": [
        "# RNN"
      ]
    },
    {
      "cell_type": "code",
      "execution_count": 134,
      "metadata": {},
      "outputs": [
        {
          "name": "stdout",
          "output_type": "stream",
          "text": [
            "Model: \"sequential_10\"\n",
            "_________________________________________________________________\n",
            " Layer (type)                Output Shape              Param #   \n",
            "=================================================================\n",
            " simple_rnn_14 (SimpleRNN)   (None, 137, 100)          20100     \n",
            "                                                                 \n",
            " dropout_20 (Dropout)        (None, 137, 100)          0         \n",
            "                                                                 \n",
            " simple_rnn_15 (SimpleRNN)   (None, 32)                4256      \n",
            "                                                                 \n",
            " dropout_21 (Dropout)        (None, 32)                0         \n",
            "                                                                 \n",
            " dense_10 (Dense)            (None, 3)                 99        \n",
            "                                                                 \n",
            "=================================================================\n",
            "Total params: 24,455\n",
            "Trainable params: 24,455\n",
            "Non-trainable params: 0\n",
            "_________________________________________________________________\n",
            "None\n"
          ]
        }
      ],
      "source": [
        "# RNN model for stance\n",
        "model1_stance = Sequential()\n",
        "# model.add(Input(shape=(137,100)))\n",
        "model1_stance.add(SimpleRNN(units = 100,input_shape=(MAX_TWEET_LENGTH,100),return_sequences=True))\n",
        "model1_stance.add(Dropout(0.2))\n",
        "model1_stance.add(SimpleRNN(units = 32))\n",
        "model1_stance.add(Dropout(0.2))\n",
        "model1_stance.add(Dense(3, activation='softmax'))\n",
        "print(model1_stance.summary())"
      ]
    },
    {
      "cell_type": "code",
      "execution_count": 135,
      "metadata": {},
      "outputs": [
        {
          "name": "stdout",
          "output_type": "stream",
          "text": [
            "Epoch 1/12\n",
            "153/153 [==============================] - 8s 39ms/step - loss: 0.6907 - accuracy: 0.7804 - precision: 0.7886 - recall: 0.7636\n",
            "Epoch 2/12\n",
            "153/153 [==============================] - 6s 39ms/step - loss: 0.6619 - accuracy: 0.7925 - precision: 0.7931 - recall: 0.7906\n",
            "Epoch 3/12\n",
            "153/153 [==============================] - 6s 37ms/step - loss: 0.6448 - accuracy: 0.7915 - precision: 0.7983 - recall: 0.7800\n",
            "Epoch 4/12\n",
            "153/153 [==============================] - 6s 38ms/step - loss: 0.6331 - accuracy: 0.7894 - precision: 0.8017 - recall: 0.7737\n",
            "Epoch 5/12\n",
            "153/153 [==============================] - 6s 38ms/step - loss: 0.6127 - accuracy: 0.7929 - precision: 0.8113 - recall: 0.7751\n",
            "Epoch 6/12\n",
            "153/153 [==============================] - 6s 42ms/step - loss: 0.6024 - accuracy: 0.7937 - precision: 0.8099 - recall: 0.7681\n",
            "Epoch 7/12\n",
            "153/153 [==============================] - 6s 40ms/step - loss: 0.5930 - accuracy: 0.7955 - precision: 0.8097 - recall: 0.7684\n",
            "Epoch 8/12\n",
            "153/153 [==============================] - 6s 38ms/step - loss: 0.5896 - accuracy: 0.7968 - precision: 0.8140 - recall: 0.7694\n",
            "Epoch 9/12\n",
            "153/153 [==============================] - 6s 38ms/step - loss: 0.5800 - accuracy: 0.8007 - precision: 0.8199 - recall: 0.7743\n",
            "Epoch 10/12\n",
            "153/153 [==============================] - 6s 39ms/step - loss: 0.5700 - accuracy: 0.7994 - precision: 0.8213 - recall: 0.7724\n",
            "Epoch 11/12\n",
            "153/153 [==============================] - 6s 39ms/step - loss: 0.5620 - accuracy: 0.8023 - precision: 0.8235 - recall: 0.7745\n",
            "Epoch 12/12\n",
            "153/153 [==============================] - 6s 38ms/step - loss: 0.5585 - accuracy: 0.7992 - precision: 0.8182 - recall: 0.7686\n"
          ]
        },
        {
          "data": {
            "text/plain": [
              "<keras.callbacks.History at 0x2770c8454c0>"
            ]
          },
          "execution_count": 135,
          "metadata": {},
          "output_type": "execute_result"
        }
      ],
      "source": [
        "opt = Adam(learning_rate=0.0001)\n",
        "model1_stance.compile(loss=tf.keras.losses.CategoricalCrossentropy(), optimizer=opt, metrics=['accuracy', 'Precision', 'Recall'])\n",
        "model1_stance.fit(x_train, y_train_stance, epochs=12, batch_size=32, verbose=1)"
      ]
    },
    {
      "cell_type": "code",
      "execution_count": 136,
      "metadata": {},
      "outputs": [
        {
          "name": "stdout",
          "output_type": "stream",
          "text": [
            "66/66 [==============================] - 1s 15ms/step\n",
            "              precision    recall  f1-score   support\n",
            "\n",
            "          -1       0.00      0.00      0.00       131\n",
            "           0       0.64      0.03      0.06       304\n",
            "           1       0.80      1.00      0.89      1662\n",
            "\n",
            "    accuracy                           0.79      2097\n",
            "   macro avg       0.48      0.34      0.31      2097\n",
            "weighted avg       0.72      0.79      0.71      2097\n",
            "\n"
          ]
        },
        {
          "name": "stderr",
          "output_type": "stream",
          "text": [
            "c:\\ProgramData\\Anaconda3\\lib\\site-packages\\sklearn\\metrics\\_classification.py:1344: UndefinedMetricWarning: Precision and F-score are ill-defined and being set to 0.0 in labels with no predicted samples. Use `zero_division` parameter to control this behavior.\n",
            "  _warn_prf(average, modifier, msg_start, len(result))\n",
            "c:\\ProgramData\\Anaconda3\\lib\\site-packages\\sklearn\\metrics\\_classification.py:1344: UndefinedMetricWarning: Precision and F-score are ill-defined and being set to 0.0 in labels with no predicted samples. Use `zero_division` parameter to control this behavior.\n",
            "  _warn_prf(average, modifier, msg_start, len(result))\n",
            "c:\\ProgramData\\Anaconda3\\lib\\site-packages\\sklearn\\metrics\\_classification.py:1344: UndefinedMetricWarning: Precision and F-score are ill-defined and being set to 0.0 in labels with no predicted samples. Use `zero_division` parameter to control this behavior.\n",
            "  _warn_prf(average, modifier, msg_start, len(result))\n"
          ]
        }
      ],
      "source": [
        "y_pred = model1_stance.predict(x_test)\n",
        "y_pred = np.argmax(y_pred, axis=1)\n",
        "y_pred = y_pred - 1\n",
        "print(classification_report(y_test_stance, y_pred))"
      ]
    },
    {
      "cell_type": "code",
      "execution_count": 137,
      "metadata": {},
      "outputs": [
        {
          "name": "stdout",
          "output_type": "stream",
          "text": [
            "Model: \"sequential_11\"\n",
            "_________________________________________________________________\n",
            " Layer (type)                Output Shape              Param #   \n",
            "=================================================================\n",
            " simple_rnn_16 (SimpleRNN)   (None, 137, 100)          20100     \n",
            "                                                                 \n",
            " dropout_22 (Dropout)        (None, 137, 100)          0         \n",
            "                                                                 \n",
            " simple_rnn_17 (SimpleRNN)   (None, 32)                4256      \n",
            "                                                                 \n",
            " dropout_23 (Dropout)        (None, 32)                0         \n",
            "                                                                 \n",
            " dense_11 (Dense)            (None, 10)                330       \n",
            "                                                                 \n",
            "=================================================================\n",
            "Total params: 24,686\n",
            "Trainable params: 24,686\n",
            "Non-trainable params: 0\n",
            "_________________________________________________________________\n",
            "None\n"
          ]
        }
      ],
      "source": [
        "# RNN model for category\n",
        "model1_cat = Sequential()\n",
        "# model.add(Input(shape=(137,100)))\n",
        "model1_cat.add(SimpleRNN(units = 100,input_shape=(MAX_TWEET_LENGTH,100),return_sequences=True))\n",
        "model1_cat.add(Dropout(0.2))\n",
        "model1_cat.add(SimpleRNN(units = 32))\n",
        "model1_cat.add(Dropout(0.2))\n",
        "model1_cat.add(Dense(10, activation='softmax'))\n",
        "print(model1_cat.summary())"
      ]
    },
    {
      "cell_type": "code",
      "execution_count": 138,
      "metadata": {},
      "outputs": [
        {
          "name": "stdout",
          "output_type": "stream",
          "text": [
            "Epoch 1/12\n",
            "153/153 [==============================] - 8s 38ms/step - loss: 1.8850 - accuracy: 0.4484 - precision: 0.5065 - recall: 0.0556\n",
            "Epoch 2/12\n",
            "153/153 [==============================] - 6s 38ms/step - loss: 1.6919 - accuracy: 0.5113 - precision: 0.5329 - recall: 0.2118\n",
            "Epoch 3/12\n",
            "153/153 [==============================] - 6s 42ms/step - loss: 1.6341 - accuracy: 0.5095 - precision: 0.5216 - recall: 0.2687\n",
            "Epoch 4/12\n",
            "153/153 [==============================] - 6s 38ms/step - loss: 1.6177 - accuracy: 0.5083 - precision: 0.5165 - recall: 0.2525\n",
            "Epoch 5/12\n",
            "153/153 [==============================] - 6s 38ms/step - loss: 1.5985 - accuracy: 0.5066 - precision: 0.5160 - recall: 0.2768\n",
            "Epoch 6/12\n",
            "153/153 [==============================] - 6s 38ms/step - loss: 1.5877 - accuracy: 0.5120 - precision: 0.5193 - recall: 0.2672\n",
            "Epoch 7/12\n",
            "153/153 [==============================] - 6s 38ms/step - loss: 1.5927 - accuracy: 0.5132 - precision: 0.5078 - recall: 0.2730\n",
            "Epoch 8/12\n",
            "153/153 [==============================] - 6s 41ms/step - loss: 1.5727 - accuracy: 0.5163 - precision: 0.5198 - recall: 0.2734\n",
            "Epoch 9/12\n",
            "153/153 [==============================] - 6s 38ms/step - loss: 1.5675 - accuracy: 0.5140 - precision: 0.5231 - recall: 0.2666\n",
            "Epoch 10/12\n",
            "153/153 [==============================] - 6s 38ms/step - loss: 1.5586 - accuracy: 0.5167 - precision: 0.5160 - recall: 0.2762\n",
            "Epoch 11/12\n",
            "153/153 [==============================] - 6s 37ms/step - loss: 1.5574 - accuracy: 0.5128 - precision: 0.5312 - recall: 0.2834\n",
            "Epoch 12/12\n",
            "153/153 [==============================] - 6s 37ms/step - loss: 1.5352 - accuracy: 0.5163 - precision: 0.5358 - recall: 0.2971\n"
          ]
        },
        {
          "data": {
            "text/plain": [
              "<keras.callbacks.History at 0x2770c8109a0>"
            ]
          },
          "execution_count": 138,
          "metadata": {},
          "output_type": "execute_result"
        }
      ],
      "source": [
        "opt = Adam(learning_rate=0.0001)\n",
        "model1_cat.compile(loss=tf.keras.losses.CategoricalCrossentropy(), optimizer=opt, metrics=['accuracy', 'Precision', 'Recall'])\n",
        "model1_cat.fit(x_train, y_train_cat_int, epochs=12, batch_size=32, verbose=1)"
      ]
    },
    {
      "cell_type": "code",
      "execution_count": 139,
      "metadata": {},
      "outputs": [
        {
          "name": "stdout",
          "output_type": "stream",
          "text": [
            "66/66 [==============================] - 1s 15ms/step\n",
            "              precision    recall  f1-score   support\n",
            "\n",
            "      advice       0.00      0.00      0.00        20\n",
            "   celebrity       0.00      0.00      0.00       306\n",
            "   info_news       0.54      0.92      0.68      1074\n",
            "      others       0.00      0.00      0.00        35\n",
            "    personal       0.33      0.26      0.29       321\n",
            "        plan       0.00      0.00      0.00       172\n",
            "    requests       0.00      0.00      0.00        30\n",
            "restrictions       0.00      0.00      0.00         8\n",
            "      rumors       0.00      0.00      0.00        24\n",
            "   unrelated       0.00      0.00      0.00       107\n",
            "\n",
            "    accuracy                           0.51      2097\n",
            "   macro avg       0.09      0.12      0.10      2097\n",
            "weighted avg       0.33      0.51      0.39      2097\n",
            "\n"
          ]
        },
        {
          "name": "stderr",
          "output_type": "stream",
          "text": [
            "c:\\ProgramData\\Anaconda3\\lib\\site-packages\\sklearn\\metrics\\_classification.py:1344: UndefinedMetricWarning: Precision and F-score are ill-defined and being set to 0.0 in labels with no predicted samples. Use `zero_division` parameter to control this behavior.\n",
            "  _warn_prf(average, modifier, msg_start, len(result))\n",
            "c:\\ProgramData\\Anaconda3\\lib\\site-packages\\sklearn\\metrics\\_classification.py:1344: UndefinedMetricWarning: Precision and F-score are ill-defined and being set to 0.0 in labels with no predicted samples. Use `zero_division` parameter to control this behavior.\n",
            "  _warn_prf(average, modifier, msg_start, len(result))\n",
            "c:\\ProgramData\\Anaconda3\\lib\\site-packages\\sklearn\\metrics\\_classification.py:1344: UndefinedMetricWarning: Precision and F-score are ill-defined and being set to 0.0 in labels with no predicted samples. Use `zero_division` parameter to control this behavior.\n",
            "  _warn_prf(average, modifier, msg_start, len(result))\n"
          ]
        }
      ],
      "source": [
        "y_pred = model1_cat.predict(x_test)\n",
        "y_pred = np.argmax(y_pred, axis=1)\n",
        "y_pred = map_int_to_category(y_pred)\n",
        "print(classification_report(y_test_cat, y_pred))"
      ]
    },
    {
      "attachments": {},
      "cell_type": "markdown",
      "metadata": {},
      "source": [
        "# LSTM"
      ]
    },
    {
      "cell_type": "code",
      "execution_count": 140,
      "metadata": {},
      "outputs": [
        {
          "name": "stdout",
          "output_type": "stream",
          "text": [
            "Model: \"sequential_12\"\n",
            "_________________________________________________________________\n",
            " Layer (type)                Output Shape              Param #   \n",
            "=================================================================\n",
            " lstm_6 (LSTM)               (None, 137, 100)          80400     \n",
            "                                                                 \n",
            " dropout_24 (Dropout)        (None, 137, 100)          0         \n",
            "                                                                 \n",
            " lstm_7 (LSTM)               (None, 32)                17024     \n",
            "                                                                 \n",
            " dropout_25 (Dropout)        (None, 32)                0         \n",
            "                                                                 \n",
            " dense_12 (Dense)            (None, 3)                 99        \n",
            "                                                                 \n",
            "=================================================================\n",
            "Total params: 97,523\n",
            "Trainable params: 97,523\n",
            "Non-trainable params: 0\n",
            "_________________________________________________________________\n",
            "None\n"
          ]
        }
      ],
      "source": [
        "model2_stance = Sequential()\n",
        "# model.add(Input(shape=(137,100)))\n",
        "model2_stance.add(LSTM(units = 100,input_shape=(137,100),return_sequences=True))\n",
        "model2_stance.add(Dropout(0.2))\n",
        "model2_stance.add(LSTM(units = 32))\n",
        "model2_stance.add(Dropout(0.2))\n",
        "model2_stance.add(Dense(3, activation='softmax'))\n",
        "print(model2_stance.summary())"
      ]
    },
    {
      "cell_type": "code",
      "execution_count": 141,
      "metadata": {},
      "outputs": [
        {
          "name": "stdout",
          "output_type": "stream",
          "text": [
            "Epoch 1/20\n",
            "153/153 - 22s - loss: 1.0980 - accuracy: 0.7890 - precision: 0.0000e+00 - recall: 0.0000e+00 - 22s/epoch - 141ms/step\n",
            "Epoch 2/20\n",
            "153/153 - 18s - loss: 1.0966 - accuracy: 0.7925 - precision: 0.0000e+00 - recall: 0.0000e+00 - 18s/epoch - 116ms/step\n",
            "Epoch 3/20\n",
            "153/153 - 18s - loss: 1.0952 - accuracy: 0.7923 - precision: 0.0000e+00 - recall: 0.0000e+00 - 18s/epoch - 117ms/step\n",
            "Epoch 4/20\n",
            "153/153 - 18s - loss: 1.0937 - accuracy: 0.7923 - precision: 0.0000e+00 - recall: 0.0000e+00 - 18s/epoch - 118ms/step\n",
            "Epoch 5/20\n",
            "153/153 - 18s - loss: 1.0921 - accuracy: 0.7923 - precision: 0.0000e+00 - recall: 0.0000e+00 - 18s/epoch - 117ms/step\n",
            "Epoch 6/20\n",
            "153/153 - 18s - loss: 1.0902 - accuracy: 0.7925 - precision: 0.0000e+00 - recall: 0.0000e+00 - 18s/epoch - 118ms/step\n",
            "Epoch 7/20\n",
            "153/153 - 18s - loss: 1.0883 - accuracy: 0.7925 - precision: 0.0000e+00 - recall: 0.0000e+00 - 18s/epoch - 118ms/step\n",
            "Epoch 8/20\n",
            "153/153 - 18s - loss: 1.0862 - accuracy: 0.7923 - precision: 0.0000e+00 - recall: 0.0000e+00 - 18s/epoch - 120ms/step\n",
            "Epoch 9/20\n",
            "153/153 - 18s - loss: 1.0838 - accuracy: 0.7923 - precision: 0.0000e+00 - recall: 0.0000e+00 - 18s/epoch - 118ms/step\n",
            "Epoch 10/20\n",
            "153/153 - 18s - loss: 1.0812 - accuracy: 0.7925 - precision: 0.0000e+00 - recall: 0.0000e+00 - 18s/epoch - 118ms/step\n",
            "Epoch 11/20\n",
            "153/153 - 18s - loss: 1.0783 - accuracy: 0.7925 - precision: 0.0000e+00 - recall: 0.0000e+00 - 18s/epoch - 119ms/step\n",
            "Epoch 12/20\n",
            "153/153 - 18s - loss: 1.0752 - accuracy: 0.7925 - precision: 0.0000e+00 - recall: 0.0000e+00 - 18s/epoch - 120ms/step\n",
            "Epoch 13/20\n",
            "153/153 - 17s - loss: 1.0716 - accuracy: 0.7925 - precision: 0.0000e+00 - recall: 0.0000e+00 - 17s/epoch - 114ms/step\n",
            "Epoch 14/20\n",
            "153/153 - 18s - loss: 1.0677 - accuracy: 0.7925 - precision: 0.0000e+00 - recall: 0.0000e+00 - 18s/epoch - 115ms/step\n",
            "Epoch 15/20\n",
            "153/153 - 18s - loss: 1.0632 - accuracy: 0.7925 - precision: 0.0000e+00 - recall: 0.0000e+00 - 18s/epoch - 115ms/step\n",
            "Epoch 16/20\n",
            "153/153 - 18s - loss: 1.0579 - accuracy: 0.7925 - precision: 0.0000e+00 - recall: 0.0000e+00 - 18s/epoch - 116ms/step\n",
            "Epoch 17/20\n",
            "153/153 - 18s - loss: 1.0520 - accuracy: 0.7925 - precision: 0.0000e+00 - recall: 0.0000e+00 - 18s/epoch - 115ms/step\n",
            "Epoch 18/20\n",
            "153/153 - 18s - loss: 1.0455 - accuracy: 0.7925 - precision: 0.0000e+00 - recall: 0.0000e+00 - 18s/epoch - 116ms/step\n",
            "Epoch 19/20\n",
            "153/153 - 18s - loss: 1.0374 - accuracy: 0.7925 - precision: 0.0000e+00 - recall: 0.0000e+00 - 18s/epoch - 115ms/step\n",
            "Epoch 20/20\n",
            "153/153 - 18s - loss: 1.0279 - accuracy: 0.7925 - precision: 0.0000e+00 - recall: 0.0000e+00 - 18s/epoch - 117ms/step\n"
          ]
        },
        {
          "data": {
            "text/plain": [
              "<keras.callbacks.History at 0x2770e24ea60>"
            ]
          },
          "execution_count": 141,
          "metadata": {},
          "output_type": "execute_result"
        }
      ],
      "source": [
        "opt = Adam(learning_rate=0.000001)\n",
        "model2_stance.compile(loss=tf.keras.losses.CategoricalCrossentropy(), optimizer=opt, metrics=['accuracy', 'Precision', 'Recall'])\n",
        "model2_stance.fit(x_train, y_train_stance, epochs=20, batch_size=32, verbose=2)"
      ]
    },
    {
      "cell_type": "code",
      "execution_count": 142,
      "metadata": {},
      "outputs": [
        {
          "name": "stdout",
          "output_type": "stream",
          "text": [
            "66/66 [==============================] - 4s 46ms/step\n",
            "              precision    recall  f1-score   support\n",
            "\n",
            "          -1       0.00      0.00      0.00       131\n",
            "           0       0.00      0.00      0.00       304\n",
            "           1       0.79      1.00      0.88      1662\n",
            "\n",
            "    accuracy                           0.79      2097\n",
            "   macro avg       0.26      0.33      0.29      2097\n",
            "weighted avg       0.63      0.79      0.70      2097\n",
            "\n"
          ]
        },
        {
          "name": "stderr",
          "output_type": "stream",
          "text": [
            "c:\\ProgramData\\Anaconda3\\lib\\site-packages\\sklearn\\metrics\\_classification.py:1344: UndefinedMetricWarning: Precision and F-score are ill-defined and being set to 0.0 in labels with no predicted samples. Use `zero_division` parameter to control this behavior.\n",
            "  _warn_prf(average, modifier, msg_start, len(result))\n",
            "c:\\ProgramData\\Anaconda3\\lib\\site-packages\\sklearn\\metrics\\_classification.py:1344: UndefinedMetricWarning: Precision and F-score are ill-defined and being set to 0.0 in labels with no predicted samples. Use `zero_division` parameter to control this behavior.\n",
            "  _warn_prf(average, modifier, msg_start, len(result))\n",
            "c:\\ProgramData\\Anaconda3\\lib\\site-packages\\sklearn\\metrics\\_classification.py:1344: UndefinedMetricWarning: Precision and F-score are ill-defined and being set to 0.0 in labels with no predicted samples. Use `zero_division` parameter to control this behavior.\n",
            "  _warn_prf(average, modifier, msg_start, len(result))\n"
          ]
        }
      ],
      "source": [
        "y_pred = model2_stance.predict(x_test)\n",
        "y_pred = np.argmax(y_pred, axis=1)\n",
        "y_pred = y_pred - 1\n",
        "print(classification_report(y_test_stance, y_pred))"
      ]
    },
    {
      "cell_type": "code",
      "execution_count": 143,
      "metadata": {},
      "outputs": [
        {
          "name": "stdout",
          "output_type": "stream",
          "text": [
            "Model: \"sequential_13\"\n",
            "_________________________________________________________________\n",
            " Layer (type)                Output Shape              Param #   \n",
            "=================================================================\n",
            " lstm_8 (LSTM)               (None, 137, 100)          80400     \n",
            "                                                                 \n",
            " dropout_26 (Dropout)        (None, 137, 100)          0         \n",
            "                                                                 \n",
            " lstm_9 (LSTM)               (None, 32)                17024     \n",
            "                                                                 \n",
            " dropout_27 (Dropout)        (None, 32)                0         \n",
            "                                                                 \n",
            " dense_13 (Dense)            (None, 10)                330       \n",
            "                                                                 \n",
            "=================================================================\n",
            "Total params: 97,754\n",
            "Trainable params: 97,754\n",
            "Non-trainable params: 0\n",
            "_________________________________________________________________\n",
            "None\n"
          ]
        }
      ],
      "source": [
        "model2_cat = Sequential()\n",
        "# model.add(Input(shape=(137,100)))\n",
        "model2_cat.add(LSTM(units = 100,input_shape=(137,100),return_sequences=True))\n",
        "model2_cat.add(Dropout(0.2))\n",
        "model2_cat.add(LSTM(units = 32))\n",
        "model2_cat.add(Dropout(0.2))\n",
        "model2_cat.add(Dense(10, activation='softmax'))\n",
        "print(model2_cat.summary())"
      ]
    },
    {
      "cell_type": "code",
      "execution_count": 144,
      "metadata": {},
      "outputs": [
        {
          "name": "stdout",
          "output_type": "stream",
          "text": [
            "Epoch 1/20\n",
            "153/153 [==============================] - 21s 108ms/step - loss: 2.3020 - accuracy: 0.5171 - precision: 0.0000e+00 - recall: 0.0000e+00\n",
            "Epoch 2/20\n",
            "153/153 [==============================] - 17s 109ms/step - loss: 2.3009 - accuracy: 0.5197 - precision: 0.0000e+00 - recall: 0.0000e+00\n",
            "Epoch 3/20\n",
            "153/153 [==============================] - 17s 112ms/step - loss: 2.2996 - accuracy: 0.5197 - precision: 0.0000e+00 - recall: 0.0000e+00\n",
            "Epoch 4/20\n",
            "153/153 [==============================] - 16s 107ms/step - loss: 2.2983 - accuracy: 0.5197 - precision: 0.0000e+00 - recall: 0.0000e+00\n",
            "Epoch 5/20\n",
            "153/153 [==============================] - 16s 107ms/step - loss: 2.2968 - accuracy: 0.5195 - precision: 0.0000e+00 - recall: 0.0000e+00\n",
            "Epoch 6/20\n",
            "153/153 [==============================] - 17s 108ms/step - loss: 2.2953 - accuracy: 0.5197 - precision: 0.0000e+00 - recall: 0.0000e+00\n",
            "Epoch 7/20\n",
            "153/153 [==============================] - 17s 108ms/step - loss: 2.2936 - accuracy: 0.5195 - precision: 0.0000e+00 - recall: 0.0000e+00\n",
            "Epoch 8/20\n",
            "153/153 [==============================] - 17s 108ms/step - loss: 2.2918 - accuracy: 0.5193 - precision: 0.0000e+00 - recall: 0.0000e+00\n",
            "Epoch 9/20\n",
            "153/153 [==============================] - 17s 109ms/step - loss: 2.2898 - accuracy: 0.5195 - precision: 0.0000e+00 - recall: 0.0000e+00\n",
            "Epoch 10/20\n",
            "153/153 [==============================] - 16s 102ms/step - loss: 2.2876 - accuracy: 0.5197 - precision: 0.0000e+00 - recall: 0.0000e+00\n",
            "Epoch 11/20\n",
            "153/153 [==============================] - 16s 105ms/step - loss: 2.2853 - accuracy: 0.5197 - precision: 0.0000e+00 - recall: 0.0000e+00\n",
            "Epoch 12/20\n",
            "153/153 [==============================] - 16s 103ms/step - loss: 2.2825 - accuracy: 0.5201 - precision: 0.0000e+00 - recall: 0.0000e+00\n",
            "Epoch 13/20\n",
            "153/153 [==============================] - 17s 108ms/step - loss: 2.2795 - accuracy: 0.5197 - precision: 0.0000e+00 - recall: 0.0000e+00\n",
            "Epoch 14/20\n",
            "153/153 [==============================] - 17s 109ms/step - loss: 2.2763 - accuracy: 0.5199 - precision: 0.0000e+00 - recall: 0.0000e+00\n",
            "Epoch 15/20\n",
            "153/153 [==============================] - 17s 109ms/step - loss: 2.2726 - accuracy: 0.5195 - precision: 0.0000e+00 - recall: 0.0000e+00\n",
            "Epoch 16/20\n",
            "153/153 [==============================] - 17s 108ms/step - loss: 2.2685 - accuracy: 0.5201 - precision: 0.0000e+00 - recall: 0.0000e+00\n",
            "Epoch 17/20\n",
            "153/153 [==============================] - 17s 109ms/step - loss: 2.2637 - accuracy: 0.5195 - precision: 0.0000e+00 - recall: 0.0000e+00\n",
            "Epoch 18/20\n",
            "153/153 [==============================] - 17s 108ms/step - loss: 2.2579 - accuracy: 0.5197 - precision: 0.0000e+00 - recall: 0.0000e+00\n",
            "Epoch 19/20\n",
            "153/153 [==============================] - 17s 108ms/step - loss: 2.2515 - accuracy: 0.5195 - precision: 0.0000e+00 - recall: 0.0000e+00\n",
            "Epoch 20/20\n",
            "153/153 [==============================] - 16s 105ms/step - loss: 2.2436 - accuracy: 0.5197 - precision: 0.0000e+00 - recall: 0.0000e+00\n"
          ]
        },
        {
          "data": {
            "text/plain": [
              "<keras.callbacks.History at 0x27712627040>"
            ]
          },
          "execution_count": 144,
          "metadata": {},
          "output_type": "execute_result"
        }
      ],
      "source": [
        "opt = Adam(learning_rate=0.000001)\n",
        "model2_cat.compile(loss=tf.keras.losses.CategoricalCrossentropy(), optimizer=opt, metrics=['accuracy', 'Precision', 'Recall'])\n",
        "model2_cat.fit(x_train, y_train_cat_int, epochs=20, batch_size=32, verbose=1)"
      ]
    },
    {
      "cell_type": "code",
      "execution_count": 145,
      "metadata": {},
      "outputs": [
        {
          "name": "stdout",
          "output_type": "stream",
          "text": [
            "66/66 [==============================] - 3s 36ms/step\n",
            "              precision    recall  f1-score   support\n",
            "\n",
            "      advice       0.00      0.00      0.00        20\n",
            "   celebrity       0.00      0.00      0.00       306\n",
            "   info_news       0.51      1.00      0.68      1074\n",
            "      others       0.00      0.00      0.00        35\n",
            "    personal       0.00      0.00      0.00       321\n",
            "        plan       0.00      0.00      0.00       172\n",
            "    requests       0.00      0.00      0.00        30\n",
            "restrictions       0.00      0.00      0.00         8\n",
            "      rumors       0.00      0.00      0.00        24\n",
            "   unrelated       0.00      0.00      0.00       107\n",
            "\n",
            "    accuracy                           0.51      2097\n",
            "   macro avg       0.05      0.10      0.07      2097\n",
            "weighted avg       0.26      0.51      0.35      2097\n",
            "\n"
          ]
        },
        {
          "name": "stderr",
          "output_type": "stream",
          "text": [
            "c:\\ProgramData\\Anaconda3\\lib\\site-packages\\sklearn\\metrics\\_classification.py:1344: UndefinedMetricWarning: Precision and F-score are ill-defined and being set to 0.0 in labels with no predicted samples. Use `zero_division` parameter to control this behavior.\n",
            "  _warn_prf(average, modifier, msg_start, len(result))\n",
            "c:\\ProgramData\\Anaconda3\\lib\\site-packages\\sklearn\\metrics\\_classification.py:1344: UndefinedMetricWarning: Precision and F-score are ill-defined and being set to 0.0 in labels with no predicted samples. Use `zero_division` parameter to control this behavior.\n",
            "  _warn_prf(average, modifier, msg_start, len(result))\n",
            "c:\\ProgramData\\Anaconda3\\lib\\site-packages\\sklearn\\metrics\\_classification.py:1344: UndefinedMetricWarning: Precision and F-score are ill-defined and being set to 0.0 in labels with no predicted samples. Use `zero_division` parameter to control this behavior.\n",
            "  _warn_prf(average, modifier, msg_start, len(result))\n"
          ]
        }
      ],
      "source": [
        "y_pred = model2_cat.predict(x_test)\n",
        "y_pred = np.argmax(y_pred, axis=1)\n",
        "y_pred = map_int_to_category(y_pred)\n",
        "print(classification_report(y_test_cat, y_pred))"
      ]
    }
  ],
  "metadata": {
    "colab": {
      "provenance": []
    },
    "kernelspec": {
      "display_name": "base",
      "language": "python",
      "name": "python3"
    },
    "language_info": {
      "codemirror_mode": {
        "name": "ipython",
        "version": 3
      },
      "file_extension": ".py",
      "mimetype": "text/x-python",
      "name": "python",
      "nbconvert_exporter": "python",
      "pygments_lexer": "ipython3",
      "version": "3.8.8 (default, Apr 13 2021, 15:08:03) [MSC v.1916 64 bit (AMD64)]"
    },
    "vscode": {
      "interpreter": {
        "hash": "ad2bdc8ecc057115af97d19610ffacc2b4e99fae6737bb82f5d7fb13d2f2c186"
      }
    }
  },
  "nbformat": 4,
  "nbformat_minor": 0
}
