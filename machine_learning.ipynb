{
 "cells": [
  {
   "cell_type": "code",
   "execution_count": 1,
   "metadata": {},
   "outputs": [],
   "source": [
    "import pandas as pd\n",
    "from sklearn.model_selection import train_test_split\n",
    "from sklearn import svm\n",
    "from sklearn.pipeline import Pipeline\n",
    "from sklearn.metrics import classification_report\n",
    "from sklearn.feature_extraction.text import CountVectorizer\n",
    "from sklearn.feature_extraction.text import TfidfVectorizer\n",
    "from sklearn.naive_bayes import MultinomialNB\n",
    "from sklearn.ensemble import RandomForestClassifier\n",
    "from scipy.stats import skew\n",
    "import matplotlib.pyplot as plt"
   ]
  },
  {
   "cell_type": "code",
   "execution_count": 2,
   "metadata": {},
   "outputs": [
    {
     "name": "stdout",
     "output_type": "stream",
     "text": [
      "(6702, 8)\n"
     ]
    },
    {
     "data": {
      "text/html": [
       "<div>\n",
       "<style scoped>\n",
       "    .dataframe tbody tr th:only-of-type {\n",
       "        vertical-align: middle;\n",
       "    }\n",
       "\n",
       "    .dataframe tbody tr th {\n",
       "        vertical-align: top;\n",
       "    }\n",
       "\n",
       "    .dataframe thead th {\n",
       "        text-align: right;\n",
       "    }\n",
       "</style>\n",
       "<table border=\"1\" class=\"dataframe\">\n",
       "  <thead>\n",
       "    <tr style=\"text-align: right;\">\n",
       "      <th></th>\n",
       "      <th>text</th>\n",
       "      <th>category</th>\n",
       "      <th>stance</th>\n",
       "      <th>cleaned_text</th>\n",
       "      <th>dialect</th>\n",
       "      <th>cleaned_text_emoji</th>\n",
       "      <th>cleaned_text_emoji_text</th>\n",
       "      <th>cleaned_text_emoji_text_no_numbers</th>\n",
       "    </tr>\n",
       "  </thead>\n",
       "  <tbody>\n",
       "    <tr>\n",
       "      <th>0</th>\n",
       "      <td>بيل غيتس يتلقى لقاح #كوفيد19 من غير تصوير الاب...</td>\n",
       "      <td>celebrity</td>\n",
       "      <td>1</td>\n",
       "      <td>بيل غيتس تلقي لقاح كوفيد19 من غير تصوير ابر و ...</td>\n",
       "      <td>Gulf</td>\n",
       "      <td>بيل غيتس تلقي لقاح كوفيد19 من غير تصوير ابر و ...</td>\n",
       "      <td>بيل غيتس تلقي لقاح كوفيد19 من غير تصوير ابر و ...</td>\n",
       "      <td>بيل غيتس تلقي لقاح كوفيد  من غير تصوير ابر و ل...</td>\n",
       "    </tr>\n",
       "    <tr>\n",
       "      <th>1</th>\n",
       "      <td>وزير الصحة لحد اليوم وتحديدا هلأ بمؤتمروا الصح...</td>\n",
       "      <td>info_news</td>\n",
       "      <td>1</td>\n",
       "      <td>وزير صح حد يوم تحديد هل بمؤتمروا صحفي كان ما ع...</td>\n",
       "      <td>Levant</td>\n",
       "      <td>وزير صح حد يوم تحديد هل بمؤتمروا صحفي كان ما ع...</td>\n",
       "      <td>وزير صح حد يوم تحديد هل بمؤتمروا صحفي كان ما ع...</td>\n",
       "      <td>وزير صح حد يوم تحديد هل بمؤتمروا صحفي كان ما ع...</td>\n",
       "    </tr>\n",
       "    <tr>\n",
       "      <th>2</th>\n",
       "      <td>قولكن  رح يكونو اد المسؤولية ب لبنان لما يوصل ...</td>\n",
       "      <td>info_news</td>\n",
       "      <td>1</td>\n",
       "      <td>قول رح يكونو اد مسؤولي ب لبنان ما وصل لقاح ؟ ا...</td>\n",
       "      <td>Modern Standard Arabic</td>\n",
       "      <td>قول رح يكونو اد مسؤولي ب لبنان ما وصل لقاح ؟ ا...</td>\n",
       "      <td>قول رح يكونو اد مسؤولي ب لبنان ما وصل لقاح ؟ ا...</td>\n",
       "      <td>قول رح يكونو اد مسؤولي ب لبنان ما وصل لقاح ؟ ا...</td>\n",
       "    </tr>\n",
       "    <tr>\n",
       "      <th>3</th>\n",
       "      <td>#تركيا.. وزير الصحة فخر الدين قوجة يتلقى أول ج...</td>\n",
       "      <td>celebrity</td>\n",
       "      <td>1</td>\n",
       "      <td>تركيا . . وزير صح فخر دين قوجة تلقي اول جرع من...</td>\n",
       "      <td>Maghreb</td>\n",
       "      <td>تركيا . . وزير صح فخر دين قوجة تلقي اول جرع من...</td>\n",
       "      <td>تركيا . . وزير صح فخر دين قوجة تلقي اول جرع من...</td>\n",
       "      <td>تركيا . . وزير صح فخر دين قوجة تلقي اول جرع من...</td>\n",
       "    </tr>\n",
       "    <tr>\n",
       "      <th>4</th>\n",
       "      <td>وئام وهاب يشتم الدول الخليجية في كل طلة اعلامي...</td>\n",
       "      <td>personal</td>\n",
       "      <td>0</td>\n",
       "      <td>وئام وهاب شتم دول خليجي في كل طل اعلامي تسافه ...</td>\n",
       "      <td>Gulf</td>\n",
       "      <td>وئام وهاب شتم دول خليجي في كل طل اعلامي تسافه ...</td>\n",
       "      <td>وئام وهاب شتم دول خليجي في كل طل اعلامي تسافه ...</td>\n",
       "      <td>وئام وهاب شتم دول خليجي في كل طل اعلامي تسافه ...</td>\n",
       "    </tr>\n",
       "  </tbody>\n",
       "</table>\n",
       "</div>"
      ],
      "text/plain": [
       "                                                text   category  stance  \\\n",
       "0  بيل غيتس يتلقى لقاح #كوفيد19 من غير تصوير الاب...  celebrity       1   \n",
       "1  وزير الصحة لحد اليوم وتحديدا هلأ بمؤتمروا الصح...  info_news       1   \n",
       "2  قولكن  رح يكونو اد المسؤولية ب لبنان لما يوصل ...  info_news       1   \n",
       "3  #تركيا.. وزير الصحة فخر الدين قوجة يتلقى أول ج...  celebrity       1   \n",
       "4  وئام وهاب يشتم الدول الخليجية في كل طلة اعلامي...   personal       0   \n",
       "\n",
       "                                        cleaned_text                 dialect  \\\n",
       "0  بيل غيتس تلقي لقاح كوفيد19 من غير تصوير ابر و ...                    Gulf   \n",
       "1  وزير صح حد يوم تحديد هل بمؤتمروا صحفي كان ما ع...                  Levant   \n",
       "2  قول رح يكونو اد مسؤولي ب لبنان ما وصل لقاح ؟ ا...  Modern Standard Arabic   \n",
       "3  تركيا . . وزير صح فخر دين قوجة تلقي اول جرع من...                 Maghreb   \n",
       "4  وئام وهاب شتم دول خليجي في كل طل اعلامي تسافه ...                    Gulf   \n",
       "\n",
       "                                  cleaned_text_emoji  \\\n",
       "0  بيل غيتس تلقي لقاح كوفيد19 من غير تصوير ابر و ...   \n",
       "1  وزير صح حد يوم تحديد هل بمؤتمروا صحفي كان ما ع...   \n",
       "2  قول رح يكونو اد مسؤولي ب لبنان ما وصل لقاح ؟ ا...   \n",
       "3  تركيا . . وزير صح فخر دين قوجة تلقي اول جرع من...   \n",
       "4  وئام وهاب شتم دول خليجي في كل طل اعلامي تسافه ...   \n",
       "\n",
       "                             cleaned_text_emoji_text  \\\n",
       "0  بيل غيتس تلقي لقاح كوفيد19 من غير تصوير ابر و ...   \n",
       "1  وزير صح حد يوم تحديد هل بمؤتمروا صحفي كان ما ع...   \n",
       "2  قول رح يكونو اد مسؤولي ب لبنان ما وصل لقاح ؟ ا...   \n",
       "3  تركيا . . وزير صح فخر دين قوجة تلقي اول جرع من...   \n",
       "4  وئام وهاب شتم دول خليجي في كل طل اعلامي تسافه ...   \n",
       "\n",
       "                  cleaned_text_emoji_text_no_numbers  \n",
       "0  بيل غيتس تلقي لقاح كوفيد  من غير تصوير ابر و ل...  \n",
       "1  وزير صح حد يوم تحديد هل بمؤتمروا صحفي كان ما ع...  \n",
       "2  قول رح يكونو اد مسؤولي ب لبنان ما وصل لقاح ؟ ا...  \n",
       "3  تركيا . . وزير صح فخر دين قوجة تلقي اول جرع من...  \n",
       "4  وئام وهاب شتم دول خليجي في كل طل اعلامي تسافه ...  "
      ]
     },
     "execution_count": 2,
     "metadata": {},
     "output_type": "execute_result"
    }
   ],
   "source": [
    "df = pd.read_csv('./Dataset/cleaned_train.csv')\n",
    "df_dev = pd.read_csv('./Dataset/cleaned_dev.csv')\n",
    "df_test = pd.read_csv('./Dataset/cleaned_test.csv')\n",
    "print(df.shape)\n",
    "df.head(5)"
   ]
  },
  {
   "cell_type": "code",
   "execution_count": 4,
   "metadata": {},
   "outputs": [
    {
     "name": "stdout",
     "output_type": "stream",
     "text": [
      " 1    5308\n",
      " 0     983\n",
      "-1     411\n",
      "Name: stance, dtype: int64\n",
      "info_news       3478\n",
      "personal         994\n",
      "celebrity        915\n",
      "plan             587\n",
      "unrelated        310\n",
      "others           160\n",
      "requests          98\n",
      "rumors            76\n",
      "advice            67\n",
      "restrictions      17\n",
      "Name: category, dtype: int64\n"
     ]
    }
   ],
   "source": [
    "print(df['stance'].value_counts())\n",
    "print(df['category'].value_counts())\n"
   ]
  },
  {
   "cell_type": "code",
   "execution_count": 212,
   "metadata": {},
   "outputs": [
    {
     "name": "stdout",
     "output_type": "stream",
     "text": [
      "(4691,)\n",
      "(2011,)\n",
      "info_news       2424\n",
      "personal         715\n",
      "celebrity        634\n",
      "plan             416\n",
      "unrelated        214\n",
      "others           113\n",
      "requests          65\n",
      "rumors            51\n",
      "advice            47\n",
      "restrictions      12\n",
      "Name: category, dtype: int64\n",
      "info_news       1054\n",
      "celebrity        281\n",
      "personal         279\n",
      "plan             171\n",
      "unrelated         96\n",
      "others            47\n",
      "requests          33\n",
      "rumors            25\n",
      "advice            20\n",
      "restrictions       5\n",
      "Name: category, dtype: int64\n"
     ]
    }
   ],
   "source": [
    "x_train, x_test, y_train, y_test = train_test_split(df['cleaned_text'], df['category'], test_size=0.3, random_state=42)\n",
    "print(x_train.shape)\n",
    "print(x_test.shape)\n",
    "print(y_train.value_counts())\n",
    "print(y_test.value_counts())"
   ]
  },
  {
   "cell_type": "code",
   "execution_count": 5,
   "metadata": {},
   "outputs": [
    {
     "ename": "NameError",
     "evalue": "name 'y_train' is not defined",
     "output_type": "error",
     "traceback": [
      "\u001b[1;31m---------------------------------------------------------------------------\u001b[0m",
      "\u001b[1;31mNameError\u001b[0m                                 Traceback (most recent call last)",
      "\u001b[1;32m<ipython-input-5-dd374b239579>\u001b[0m in \u001b[0;36m<module>\u001b[1;34m\u001b[0m\n\u001b[1;32m----> 1\u001b[1;33m \u001b[0mprint\u001b[0m\u001b[1;33m(\u001b[0m\u001b[0mskew\u001b[0m\u001b[1;33m(\u001b[0m\u001b[0my_train\u001b[0m\u001b[1;33m.\u001b[0m\u001b[0mvalue_counts\u001b[0m\u001b[1;33m(\u001b[0m\u001b[1;33m)\u001b[0m\u001b[1;33m)\u001b[0m\u001b[1;33m)\u001b[0m\u001b[1;33m\u001b[0m\u001b[1;33m\u001b[0m\u001b[0m\n\u001b[0m\u001b[0;32m      2\u001b[0m \u001b[1;31m# plot the skewness\u001b[0m\u001b[1;33m\u001b[0m\u001b[1;33m\u001b[0m\u001b[1;33m\u001b[0m\u001b[0m\n\u001b[0;32m      3\u001b[0m \u001b[0mplt\u001b[0m\u001b[1;33m.\u001b[0m\u001b[0mfigure\u001b[0m\u001b[1;33m(\u001b[0m\u001b[0mfigsize\u001b[0m\u001b[1;33m=\u001b[0m\u001b[1;33m(\u001b[0m\u001b[1;36m10\u001b[0m\u001b[1;33m,\u001b[0m\u001b[1;36m5\u001b[0m\u001b[1;33m)\u001b[0m\u001b[1;33m)\u001b[0m\u001b[1;33m\u001b[0m\u001b[1;33m\u001b[0m\u001b[0m\n\u001b[0;32m      4\u001b[0m \u001b[0mplt\u001b[0m\u001b[1;33m.\u001b[0m\u001b[0mbar\u001b[0m\u001b[1;33m(\u001b[0m\u001b[0my_train\u001b[0m\u001b[1;33m.\u001b[0m\u001b[0mvalue_counts\u001b[0m\u001b[1;33m(\u001b[0m\u001b[1;33m)\u001b[0m\u001b[1;33m.\u001b[0m\u001b[0mindex\u001b[0m\u001b[1;33m,\u001b[0m\u001b[0my_train\u001b[0m\u001b[1;33m.\u001b[0m\u001b[0mvalue_counts\u001b[0m\u001b[1;33m(\u001b[0m\u001b[1;33m)\u001b[0m\u001b[1;33m.\u001b[0m\u001b[0mvalues\u001b[0m\u001b[1;33m)\u001b[0m\u001b[1;33m\u001b[0m\u001b[1;33m\u001b[0m\u001b[0m\n\u001b[0;32m      5\u001b[0m \u001b[0mplt\u001b[0m\u001b[1;33m.\u001b[0m\u001b[0mshow\u001b[0m\u001b[1;33m(\u001b[0m\u001b[1;33m)\u001b[0m\u001b[1;33m\u001b[0m\u001b[1;33m\u001b[0m\u001b[0m\n",
      "\u001b[1;31mNameError\u001b[0m: name 'y_train' is not defined"
     ]
    }
   ],
   "source": [
    "print(skew(y_train.value_counts()))\n",
    "# plot the skewness\n",
    "plt.figure(figsize=(10,5))\n",
    "plt.bar(y_train.value_counts().index,y_train.value_counts().values)\n",
    "plt.show()\n",
    "\n",
    "# import seaborn as sns\n",
    "# sns.distplot(y_train.value_counts())\n",
    "# plt.show()"
   ]
  },
  {
   "cell_type": "code",
   "execution_count": 118,
   "metadata": {},
   "outputs": [
    {
     "name": "stdout",
     "output_type": "stream",
     "text": [
      "5889    منظم صح عالمي وصي استخدام لقاح مودرنا بعد ان ا...\n",
      "2787        متي نتهي مرحل اولي من حمل لقاح كور ؟ خليج عرب\n",
      "3785          مدير امن عام نائب تلقي جرع اولي من لقاح كور\n",
      "838     شارك ابناء اردن لقي لقاح ڤيروس كور خلال حمل وط...\n",
      "1087    بعد فشل دكتاتور مجرم محمد سادس و انفضاح كذب ان...\n",
      "                              ...                        \n",
      "3772    فيديو . . نائب امير رياض تلقي جرع اولي من لقاح...\n",
      "5191    وزار صح : • علن اعاد ترتيب مواعيد لقي لقاح كور...\n",
      "5226    اخذ بري من حديث عن لقاح كور وجه مبتسم فاصل كوم...\n",
      "5390    دول اد كور مش لقاح وجه مع تشويش عين وجه عطس ضح...\n",
      "860                      ريد تخلص من كور لكن ريد لقاح امن\n",
      "Name: cleaned_text_emoji_text_no_numbers, Length: 4691, dtype: object\n"
     ]
    }
   ],
   "source": [
    "print(x_train)"
   ]
  },
  {
   "cell_type": "code",
   "execution_count": 9,
   "metadata": {},
   "outputs": [
    {
     "name": "stdout",
     "output_type": "stream",
     "text": [
      "(6702, 86734)\n"
     ]
    }
   ],
   "source": [
    "tfidf = TfidfVectorizer(ngram_range=(1,2))\n",
    "x_train_tfidf = tfidf.fit_transform(df['cleaned_text'])\n",
    "x_dev_tfidf = tfidf.transform(df_dev['cleaned_text'])\n",
    "x_test_tfidf = tfidf.transform(df_test['cleaned_text'])\n",
    "# y_train = df['category']\n",
    "# y_dev = df_dev['category']\n",
    "y_train = df['stance']\n",
    "y_dev = df_dev['stance']\n",
    "#x_test_tfidf = tfidf.transform(x_test)\n",
    "print(x_train_tfidf.shape)\n"
   ]
  },
  {
   "cell_type": "code",
   "execution_count": 37,
   "metadata": {},
   "outputs": [
    {
     "name": "stdout",
     "output_type": "stream",
     "text": [
      "(6702, 11057)\n"
     ]
    }
   ],
   "source": [
    "vectorizer = CountVectorizer(token_pattern=r'\\S+')\n",
    "x_train_bow = vectorizer.fit_transform(df['cleaned_text'])\n",
    "x_dev_bow = vectorizer.transform(df_dev['cleaned_text'])\n",
    "y_train = df['category']\n",
    "y_dev = df_dev['category']\n",
    "\n",
    "print(x_train_bow.shape)"
   ]
  },
  {
   "cell_type": "code",
   "execution_count": 10,
   "metadata": {},
   "outputs": [
    {
     "name": "stdout",
     "output_type": "stream",
     "text": [
      "(15924, 86734)\n",
      " 0    5308\n",
      " 1    5308\n",
      "-1    5308\n",
      "Name: stance, dtype: int64\n"
     ]
    }
   ],
   "source": [
    "from imblearn.over_sampling import SMOTE\n",
    "\n",
    "sm = SMOTE(random_state=42)\n",
    "# oversample class -1 and class 0\n",
    "x_train_tfidf, y_train = sm.fit_resample(x_train_tfidf, y_train)\n",
    "print(x_train_tfidf.shape)\n",
    "print(y_train.value_counts())\n"
   ]
  },
  {
   "cell_type": "code",
   "execution_count": 41,
   "metadata": {},
   "outputs": [
    {
     "name": "stdout",
     "output_type": "stream",
     "text": [
      "(34780, 11057)\n",
      "restrictions    3478\n",
      "personal        3478\n",
      "unrelated       3478\n",
      "requests        3478\n",
      "info_news       3478\n",
      "celebrity       3478\n",
      "others          3478\n",
      "rumors          3478\n",
      "plan            3478\n",
      "advice          3478\n",
      "Name: category, dtype: int64\n"
     ]
    }
   ],
   "source": [
    "from imblearn.over_sampling import SMOTE\n",
    "\n",
    "sm = SMOTE(random_state=42)\n",
    "# oversample class -1 and class 0\n",
    "x_train_bow, y_train = sm.fit_resample(x_train_bow, y_train)\n",
    "print(x_train_bow.shape)\n",
    "print(y_train.value_counts())"
   ]
  },
  {
   "cell_type": "code",
   "execution_count": null,
   "metadata": {},
   "outputs": [],
   "source": [
    "# use stratified k-fold cross validation \n",
    "from sklearn.model_selection import StratifiedKFold\n",
    "from sklearn.model_selection import cross_val_score\n",
    "from sklearn.model_selection import cross_val_predict\n",
    "\n",
    "# use stratified k-fold cross validation\n",
    "skf = StratifiedKFold(n_splits=5, random_state=42, shuffle=True)\n",
    "# run the classifier on each fold\n",
    "for train_index, test_index in skf.split(x_train_tfidf, y_train):\n",
    "    # split the data into train and test\n",
    "    x_train_fold, x_test_fold = x_train_tfidf[train_index], x_train_tfidf[test_index]\n",
    "    y_train_fold, y_test_fold = y_train[train_index], y_train[test_index]\n",
    "    # train the classifier\n",
    "    clf = svm.SVC(kernel='linear', C=1, gamma=1)\n",
    "    clf.fit(x_train_fold, y_train_fold)\n",
    "    # predict the labels\n",
    "    y_pred = clf.predict(x_test_fold)\n",
    "    # print the classification report\n",
    "    print (f'Fold {train_index}:')\n",
    "    print(classification_report(y_test_fold, y_pred))"
   ]
  },
  {
   "cell_type": "code",
   "execution_count": 220,
   "metadata": {},
   "outputs": [],
   "source": [
    "from sklearn.model_selection import GridSearchCV\n",
    "from imblearn.pipeline import make_pipeline, Pipeline\n",
    "\n"
   ]
  },
  {
   "cell_type": "code",
   "execution_count": 221,
   "metadata": {},
   "outputs": [],
   "source": [
    "smote_enn = SMOTE(random_state=42)\n",
    "clf_svm = svm.SVC(random_state=42)\n",
    "\n",
    "pipeline = make_pipeline(smote_enn, clf_svm)\n"
   ]
  },
  {
   "cell_type": "code",
   "execution_count": 138,
   "metadata": {},
   "outputs": [
    {
     "name": "stdout",
     "output_type": "stream",
     "text": [
      "dict_keys(['memory', 'steps', 'verbose', 'smote', 'svc', 'smote__k_neighbors', 'smote__n_jobs', 'smote__random_state', 'smote__sampling_strategy', 'svc__C', 'svc__break_ties', 'svc__cache_size', 'svc__class_weight', 'svc__coef0', 'svc__decision_function_shape', 'svc__degree', 'svc__gamma', 'svc__kernel', 'svc__max_iter', 'svc__probability', 'svc__random_state', 'svc__shrinking', 'svc__tol', 'svc__verbose'])\n"
     ]
    }
   ],
   "source": [
    "print(pipeline.get_params().keys())"
   ]
  },
  {
   "cell_type": "code",
   "execution_count": 222,
   "metadata": {},
   "outputs": [
    {
     "name": "stdout",
     "output_type": "stream",
     "text": [
      "Fitting 4 folds for each of 4 candidates, totalling 16 fits\n"
     ]
    }
   ],
   "source": [
    "param_grid = {'svc__C': [1],\n",
    "              'svc__gamma': [0.1],\n",
    "              'svc__kernel': ['rbf' , 'linear', 'poly', 'sigmoid'],\n",
    "              'svc__tol': [0.001],\n",
    "              }\n",
    "\n",
    "\n",
    "# default scoring for grid search: accuracy\n",
    "grid = GridSearchCV(pipeline, param_grid, refit = True, verbose = 3, cv=4, scoring='f1_macro', n_jobs=-1)\n",
    "\n",
    "grid.fit(x_train_tfidf, y_train)\n",
    "\n",
    "# print best parameter after tuning\n",
    "print(grid.best_params_)\n",
    "\n",
    "# print how our model looks after hyper-parameter tuning\n",
    "print(grid.best_estimator_)"
   ]
  },
  {
   "cell_type": "code",
   "execution_count": 218,
   "metadata": {},
   "outputs": [
    {
     "name": "stdout",
     "output_type": "stream",
     "text": [
      "              precision    recall  f1-score   support\n",
      "\n",
      "          -1       0.48      0.35      0.40        69\n",
      "           0       0.51      0.39      0.44       124\n",
      "           1       0.88      0.94      0.91       798\n",
      "\n",
      "    accuracy                           0.83       991\n",
      "   macro avg       0.62      0.56      0.58       991\n",
      "weighted avg       0.81      0.83      0.82       991\n",
      "\n"
     ]
    }
   ],
   "source": [
    "clf = svm.SVC(kernel='sigmoid', C=1, gamma=1, tol=0.001, random_state=42)\n",
    "clf.fit(x_train_tfidf, y_train)\n",
    "y_pred = clf.predict(x_dev_tfidf)\n",
    "print(classification_report(y_dev, y_pred))"
   ]
  },
  {
   "cell_type": "code",
   "execution_count": 42,
   "metadata": {},
   "outputs": [
    {
     "name": "stdout",
     "output_type": "stream",
     "text": [
      "              precision    recall  f1-score   support\n",
      "\n",
      "      advice       0.02      0.10      0.03        10\n",
      "   celebrity       0.74      0.26      0.39       142\n",
      "   info_news       0.66      0.31      0.42       543\n",
      "      others       0.00      0.00      0.00        17\n",
      "    personal       0.33      0.02      0.03       127\n",
      "        plan       0.17      0.02      0.04        82\n",
      "    requests       0.02      0.37      0.03        19\n",
      "restrictions       0.00      0.00      0.00         2\n",
      "      rumors       0.00      0.00      0.00        15\n",
      "   unrelated       0.09      0.21      0.12        34\n",
      "\n",
      "    accuracy                           0.23       991\n",
      "   macro avg       0.20      0.13      0.11       991\n",
      "weighted avg       0.53      0.23      0.30       991\n",
      "\n"
     ]
    }
   ],
   "source": [
    "clf = svm.SVC(kernel='sigmoid', C=1, gamma=1, tol=0.001, random_state=42)\n",
    "clf.fit(x_train_bow, y_train)\n",
    "y_pred = clf.predict(x_dev_bow)\n",
    "print(classification_report(y_dev, y_pred))"
   ]
  },
  {
   "cell_type": "code",
   "execution_count": null,
   "metadata": {},
   "outputs": [
    {
     "name": "stdout",
     "output_type": "stream",
     "text": [
      "              precision    recall  f1-score   support\n",
      "\n",
      "      advice       0.14      0.08      0.10        13\n",
      "   celebrity       0.87      0.80      0.83       298\n",
      "   info_news       0.69      0.80      0.74      1111\n",
      "      others       0.12      0.02      0.04        47\n",
      "    personal       0.57      0.59      0.58       293\n",
      "        plan       0.27      0.23      0.25       179\n",
      "    requests       0.19      0.13      0.15        39\n",
      "restrictions       0.00      0.00      0.00         2\n",
      "      rumors       0.00      0.00      0.00        25\n",
      "   unrelated       0.54      0.17      0.25        90\n",
      "\n",
      "    accuracy                           0.65      2097\n",
      "   macro avg       0.34      0.28      0.30      2097\n",
      "weighted avg       0.62      0.65      0.63      2097\n",
      "\n"
     ]
    }
   ],
   "source": [
    "clf = svm.SVC(kernel='linear', C=1, gamma=1)\n",
    "clf.fit(x_train_tfidf, y_train)\n",
    "y_pred = clf.predict(x_test_tfidf)\n",
    "# save the resutly to a new csv file\n",
    "\n",
    "df_test['category'] = y_pred\n",
    "# print(classification_report(y_test, y_pred))"
   ]
  },
  {
   "cell_type": "code",
   "execution_count": 32,
   "metadata": {},
   "outputs": [
    {
     "name": "stdout",
     "output_type": "stream",
     "text": [
      "              precision    recall  f1-score   support\n",
      "\n",
      "      advice       0.14      0.08      0.10        13\n",
      "   celebrity       0.87      0.80      0.83       298\n",
      "   info_news       0.69      0.80      0.74      1111\n",
      "      others       0.12      0.02      0.04        47\n",
      "    personal       0.57      0.59      0.58       293\n",
      "        plan       0.27      0.23      0.25       179\n",
      "    requests       0.19      0.13      0.15        39\n",
      "restrictions       0.00      0.00      0.00         2\n",
      "      rumors       0.00      0.00      0.00        25\n",
      "   unrelated       0.54      0.17      0.25        90\n",
      "\n",
      "    accuracy                           0.65      2097\n",
      "   macro avg       0.34      0.28      0.30      2097\n",
      "weighted avg       0.62      0.65      0.63      2097\n",
      "\n"
     ]
    }
   ],
   "source": [
    "clf = svm.SVC(kernel='linear', C=1, gamma=1)\n",
    "clf.fit(x_train_tfidf, y_train)\n",
    "y_pred = clf.predict(x_test_tfidf)\n",
    "print(classification_report(y_test, y_pred))"
   ]
  },
  {
   "cell_type": "code",
   "execution_count": 19,
   "metadata": {},
   "outputs": [
    {
     "ename": "KeyboardInterrupt",
     "evalue": "",
     "output_type": "error",
     "traceback": [
      "\u001b[1;31m---------------------------------------------------------------------------\u001b[0m",
      "\u001b[1;31mKeyboardInterrupt\u001b[0m                         Traceback (most recent call last)",
      "\u001b[1;32m<ipython-input-19-3d54ec1d0eb3>\u001b[0m in \u001b[0;36m<module>\u001b[1;34m\u001b[0m\n\u001b[0;32m      1\u001b[0m \u001b[0mclf\u001b[0m \u001b[1;33m=\u001b[0m \u001b[0mRandomForestClassifier\u001b[0m\u001b[1;33m(\u001b[0m\u001b[0mn_estimators\u001b[0m\u001b[1;33m=\u001b[0m\u001b[1;36m500\u001b[0m\u001b[1;33m,\u001b[0m \u001b[0mrandom_state\u001b[0m\u001b[1;33m=\u001b[0m\u001b[1;36m42\u001b[0m\u001b[1;33m)\u001b[0m\u001b[1;33m\u001b[0m\u001b[1;33m\u001b[0m\u001b[0m\n\u001b[1;32m----> 2\u001b[1;33m \u001b[0mclf\u001b[0m\u001b[1;33m.\u001b[0m\u001b[0mfit\u001b[0m\u001b[1;33m(\u001b[0m\u001b[0mx_train_tfidf\u001b[0m\u001b[1;33m,\u001b[0m \u001b[0my_train\u001b[0m\u001b[1;33m)\u001b[0m\u001b[1;33m\u001b[0m\u001b[1;33m\u001b[0m\u001b[0m\n\u001b[0m\u001b[0;32m      3\u001b[0m \u001b[0my_pred\u001b[0m \u001b[1;33m=\u001b[0m \u001b[0mclf\u001b[0m\u001b[1;33m.\u001b[0m\u001b[0mpredict\u001b[0m\u001b[1;33m(\u001b[0m\u001b[0mx_dev_tfidf\u001b[0m\u001b[1;33m)\u001b[0m\u001b[1;33m\u001b[0m\u001b[1;33m\u001b[0m\u001b[0m\n\u001b[0;32m      4\u001b[0m \u001b[0mprint\u001b[0m\u001b[1;33m(\u001b[0m\u001b[0mclassification_report\u001b[0m\u001b[1;33m(\u001b[0m\u001b[0my_dev\u001b[0m\u001b[1;33m,\u001b[0m \u001b[0my_pred\u001b[0m\u001b[1;33m)\u001b[0m\u001b[1;33m)\u001b[0m\u001b[1;33m\u001b[0m\u001b[1;33m\u001b[0m\u001b[0m\n",
      "\u001b[1;32mc:\\ProgramData\\Anaconda3\\lib\\site-packages\\sklearn\\ensemble\\_forest.py\u001b[0m in \u001b[0;36mfit\u001b[1;34m(self, X, y, sample_weight)\u001b[0m\n\u001b[0;32m    472\u001b[0m             \u001b[1;31m# parallel_backend contexts set at a higher level,\u001b[0m\u001b[1;33m\u001b[0m\u001b[1;33m\u001b[0m\u001b[1;33m\u001b[0m\u001b[0m\n\u001b[0;32m    473\u001b[0m             \u001b[1;31m# since correctness does not rely on using threads.\u001b[0m\u001b[1;33m\u001b[0m\u001b[1;33m\u001b[0m\u001b[1;33m\u001b[0m\u001b[0m\n\u001b[1;32m--> 474\u001b[1;33m             trees = Parallel(\n\u001b[0m\u001b[0;32m    475\u001b[0m                 \u001b[0mn_jobs\u001b[0m\u001b[1;33m=\u001b[0m\u001b[0mself\u001b[0m\u001b[1;33m.\u001b[0m\u001b[0mn_jobs\u001b[0m\u001b[1;33m,\u001b[0m\u001b[1;33m\u001b[0m\u001b[1;33m\u001b[0m\u001b[0m\n\u001b[0;32m    476\u001b[0m                 \u001b[0mverbose\u001b[0m\u001b[1;33m=\u001b[0m\u001b[0mself\u001b[0m\u001b[1;33m.\u001b[0m\u001b[0mverbose\u001b[0m\u001b[1;33m,\u001b[0m\u001b[1;33m\u001b[0m\u001b[1;33m\u001b[0m\u001b[0m\n",
      "\u001b[1;32mc:\\ProgramData\\Anaconda3\\lib\\site-packages\\joblib\\parallel.py\u001b[0m in \u001b[0;36m__call__\u001b[1;34m(self, iterable)\u001b[0m\n\u001b[0;32m   1086\u001b[0m                 \u001b[0mself\u001b[0m\u001b[1;33m.\u001b[0m\u001b[0m_iterating\u001b[0m \u001b[1;33m=\u001b[0m \u001b[0mself\u001b[0m\u001b[1;33m.\u001b[0m\u001b[0m_original_iterator\u001b[0m \u001b[1;32mis\u001b[0m \u001b[1;32mnot\u001b[0m \u001b[1;32mNone\u001b[0m\u001b[1;33m\u001b[0m\u001b[1;33m\u001b[0m\u001b[0m\n\u001b[0;32m   1087\u001b[0m \u001b[1;33m\u001b[0m\u001b[0m\n\u001b[1;32m-> 1088\u001b[1;33m             \u001b[1;32mwhile\u001b[0m \u001b[0mself\u001b[0m\u001b[1;33m.\u001b[0m\u001b[0mdispatch_one_batch\u001b[0m\u001b[1;33m(\u001b[0m\u001b[0miterator\u001b[0m\u001b[1;33m)\u001b[0m\u001b[1;33m:\u001b[0m\u001b[1;33m\u001b[0m\u001b[1;33m\u001b[0m\u001b[0m\n\u001b[0m\u001b[0;32m   1089\u001b[0m                 \u001b[1;32mpass\u001b[0m\u001b[1;33m\u001b[0m\u001b[1;33m\u001b[0m\u001b[0m\n\u001b[0;32m   1090\u001b[0m \u001b[1;33m\u001b[0m\u001b[0m\n",
      "\u001b[1;32mc:\\ProgramData\\Anaconda3\\lib\\site-packages\\joblib\\parallel.py\u001b[0m in \u001b[0;36mdispatch_one_batch\u001b[1;34m(self, iterator)\u001b[0m\n\u001b[0;32m    899\u001b[0m                 \u001b[1;32mreturn\u001b[0m \u001b[1;32mFalse\u001b[0m\u001b[1;33m\u001b[0m\u001b[1;33m\u001b[0m\u001b[0m\n\u001b[0;32m    900\u001b[0m             \u001b[1;32melse\u001b[0m\u001b[1;33m:\u001b[0m\u001b[1;33m\u001b[0m\u001b[1;33m\u001b[0m\u001b[0m\n\u001b[1;32m--> 901\u001b[1;33m                 \u001b[0mself\u001b[0m\u001b[1;33m.\u001b[0m\u001b[0m_dispatch\u001b[0m\u001b[1;33m(\u001b[0m\u001b[0mtasks\u001b[0m\u001b[1;33m)\u001b[0m\u001b[1;33m\u001b[0m\u001b[1;33m\u001b[0m\u001b[0m\n\u001b[0m\u001b[0;32m    902\u001b[0m                 \u001b[1;32mreturn\u001b[0m \u001b[1;32mTrue\u001b[0m\u001b[1;33m\u001b[0m\u001b[1;33m\u001b[0m\u001b[0m\n\u001b[0;32m    903\u001b[0m \u001b[1;33m\u001b[0m\u001b[0m\n",
      "\u001b[1;32mc:\\ProgramData\\Anaconda3\\lib\\site-packages\\joblib\\parallel.py\u001b[0m in \u001b[0;36m_dispatch\u001b[1;34m(self, batch)\u001b[0m\n\u001b[0;32m    817\u001b[0m         \u001b[1;32mwith\u001b[0m \u001b[0mself\u001b[0m\u001b[1;33m.\u001b[0m\u001b[0m_lock\u001b[0m\u001b[1;33m:\u001b[0m\u001b[1;33m\u001b[0m\u001b[1;33m\u001b[0m\u001b[0m\n\u001b[0;32m    818\u001b[0m             \u001b[0mjob_idx\u001b[0m \u001b[1;33m=\u001b[0m \u001b[0mlen\u001b[0m\u001b[1;33m(\u001b[0m\u001b[0mself\u001b[0m\u001b[1;33m.\u001b[0m\u001b[0m_jobs\u001b[0m\u001b[1;33m)\u001b[0m\u001b[1;33m\u001b[0m\u001b[1;33m\u001b[0m\u001b[0m\n\u001b[1;32m--> 819\u001b[1;33m             \u001b[0mjob\u001b[0m \u001b[1;33m=\u001b[0m \u001b[0mself\u001b[0m\u001b[1;33m.\u001b[0m\u001b[0m_backend\u001b[0m\u001b[1;33m.\u001b[0m\u001b[0mapply_async\u001b[0m\u001b[1;33m(\u001b[0m\u001b[0mbatch\u001b[0m\u001b[1;33m,\u001b[0m \u001b[0mcallback\u001b[0m\u001b[1;33m=\u001b[0m\u001b[0mcb\u001b[0m\u001b[1;33m)\u001b[0m\u001b[1;33m\u001b[0m\u001b[1;33m\u001b[0m\u001b[0m\n\u001b[0m\u001b[0;32m    820\u001b[0m             \u001b[1;31m# A job can complete so quickly than its callback is\u001b[0m\u001b[1;33m\u001b[0m\u001b[1;33m\u001b[0m\u001b[1;33m\u001b[0m\u001b[0m\n\u001b[0;32m    821\u001b[0m             \u001b[1;31m# called before we get here, causing self._jobs to\u001b[0m\u001b[1;33m\u001b[0m\u001b[1;33m\u001b[0m\u001b[1;33m\u001b[0m\u001b[0m\n",
      "\u001b[1;32mc:\\ProgramData\\Anaconda3\\lib\\site-packages\\joblib\\_parallel_backends.py\u001b[0m in \u001b[0;36mapply_async\u001b[1;34m(self, func, callback)\u001b[0m\n\u001b[0;32m    206\u001b[0m     \u001b[1;32mdef\u001b[0m \u001b[0mapply_async\u001b[0m\u001b[1;33m(\u001b[0m\u001b[0mself\u001b[0m\u001b[1;33m,\u001b[0m \u001b[0mfunc\u001b[0m\u001b[1;33m,\u001b[0m \u001b[0mcallback\u001b[0m\u001b[1;33m=\u001b[0m\u001b[1;32mNone\u001b[0m\u001b[1;33m)\u001b[0m\u001b[1;33m:\u001b[0m\u001b[1;33m\u001b[0m\u001b[1;33m\u001b[0m\u001b[0m\n\u001b[0;32m    207\u001b[0m         \u001b[1;34m\"\"\"Schedule a func to be run\"\"\"\u001b[0m\u001b[1;33m\u001b[0m\u001b[1;33m\u001b[0m\u001b[0m\n\u001b[1;32m--> 208\u001b[1;33m         \u001b[0mresult\u001b[0m \u001b[1;33m=\u001b[0m \u001b[0mImmediateResult\u001b[0m\u001b[1;33m(\u001b[0m\u001b[0mfunc\u001b[0m\u001b[1;33m)\u001b[0m\u001b[1;33m\u001b[0m\u001b[1;33m\u001b[0m\u001b[0m\n\u001b[0m\u001b[0;32m    209\u001b[0m         \u001b[1;32mif\u001b[0m \u001b[0mcallback\u001b[0m\u001b[1;33m:\u001b[0m\u001b[1;33m\u001b[0m\u001b[1;33m\u001b[0m\u001b[0m\n\u001b[0;32m    210\u001b[0m             \u001b[0mcallback\u001b[0m\u001b[1;33m(\u001b[0m\u001b[0mresult\u001b[0m\u001b[1;33m)\u001b[0m\u001b[1;33m\u001b[0m\u001b[1;33m\u001b[0m\u001b[0m\n",
      "\u001b[1;32mc:\\ProgramData\\Anaconda3\\lib\\site-packages\\joblib\\_parallel_backends.py\u001b[0m in \u001b[0;36m__init__\u001b[1;34m(self, batch)\u001b[0m\n\u001b[0;32m    595\u001b[0m         \u001b[1;31m# Don't delay the application, to avoid keeping the input\u001b[0m\u001b[1;33m\u001b[0m\u001b[1;33m\u001b[0m\u001b[1;33m\u001b[0m\u001b[0m\n\u001b[0;32m    596\u001b[0m         \u001b[1;31m# arguments in memory\u001b[0m\u001b[1;33m\u001b[0m\u001b[1;33m\u001b[0m\u001b[1;33m\u001b[0m\u001b[0m\n\u001b[1;32m--> 597\u001b[1;33m         \u001b[0mself\u001b[0m\u001b[1;33m.\u001b[0m\u001b[0mresults\u001b[0m \u001b[1;33m=\u001b[0m \u001b[0mbatch\u001b[0m\u001b[1;33m(\u001b[0m\u001b[1;33m)\u001b[0m\u001b[1;33m\u001b[0m\u001b[1;33m\u001b[0m\u001b[0m\n\u001b[0m\u001b[0;32m    598\u001b[0m \u001b[1;33m\u001b[0m\u001b[0m\n\u001b[0;32m    599\u001b[0m     \u001b[1;32mdef\u001b[0m \u001b[0mget\u001b[0m\u001b[1;33m(\u001b[0m\u001b[0mself\u001b[0m\u001b[1;33m)\u001b[0m\u001b[1;33m:\u001b[0m\u001b[1;33m\u001b[0m\u001b[1;33m\u001b[0m\u001b[0m\n",
      "\u001b[1;32mc:\\ProgramData\\Anaconda3\\lib\\site-packages\\joblib\\parallel.py\u001b[0m in \u001b[0;36m__call__\u001b[1;34m(self)\u001b[0m\n\u001b[0;32m    286\u001b[0m         \u001b[1;31m# change the default number of processes to -1\u001b[0m\u001b[1;33m\u001b[0m\u001b[1;33m\u001b[0m\u001b[1;33m\u001b[0m\u001b[0m\n\u001b[0;32m    287\u001b[0m         \u001b[1;32mwith\u001b[0m \u001b[0mparallel_backend\u001b[0m\u001b[1;33m(\u001b[0m\u001b[0mself\u001b[0m\u001b[1;33m.\u001b[0m\u001b[0m_backend\u001b[0m\u001b[1;33m,\u001b[0m \u001b[0mn_jobs\u001b[0m\u001b[1;33m=\u001b[0m\u001b[0mself\u001b[0m\u001b[1;33m.\u001b[0m\u001b[0m_n_jobs\u001b[0m\u001b[1;33m)\u001b[0m\u001b[1;33m:\u001b[0m\u001b[1;33m\u001b[0m\u001b[1;33m\u001b[0m\u001b[0m\n\u001b[1;32m--> 288\u001b[1;33m             return [func(*args, **kwargs)\n\u001b[0m\u001b[0;32m    289\u001b[0m                     for func, args, kwargs in self.items]\n\u001b[0;32m    290\u001b[0m \u001b[1;33m\u001b[0m\u001b[0m\n",
      "\u001b[1;32mc:\\ProgramData\\Anaconda3\\lib\\site-packages\\joblib\\parallel.py\u001b[0m in \u001b[0;36m<listcomp>\u001b[1;34m(.0)\u001b[0m\n\u001b[0;32m    286\u001b[0m         \u001b[1;31m# change the default number of processes to -1\u001b[0m\u001b[1;33m\u001b[0m\u001b[1;33m\u001b[0m\u001b[1;33m\u001b[0m\u001b[0m\n\u001b[0;32m    287\u001b[0m         \u001b[1;32mwith\u001b[0m \u001b[0mparallel_backend\u001b[0m\u001b[1;33m(\u001b[0m\u001b[0mself\u001b[0m\u001b[1;33m.\u001b[0m\u001b[0m_backend\u001b[0m\u001b[1;33m,\u001b[0m \u001b[0mn_jobs\u001b[0m\u001b[1;33m=\u001b[0m\u001b[0mself\u001b[0m\u001b[1;33m.\u001b[0m\u001b[0m_n_jobs\u001b[0m\u001b[1;33m)\u001b[0m\u001b[1;33m:\u001b[0m\u001b[1;33m\u001b[0m\u001b[1;33m\u001b[0m\u001b[0m\n\u001b[1;32m--> 288\u001b[1;33m             return [func(*args, **kwargs)\n\u001b[0m\u001b[0;32m    289\u001b[0m                     for func, args, kwargs in self.items]\n\u001b[0;32m    290\u001b[0m \u001b[1;33m\u001b[0m\u001b[0m\n",
      "\u001b[1;32mc:\\ProgramData\\Anaconda3\\lib\\site-packages\\sklearn\\utils\\fixes.py\u001b[0m in \u001b[0;36m__call__\u001b[1;34m(self, *args, **kwargs)\u001b[0m\n\u001b[0;32m    115\u001b[0m     \u001b[1;32mdef\u001b[0m \u001b[0m__call__\u001b[0m\u001b[1;33m(\u001b[0m\u001b[0mself\u001b[0m\u001b[1;33m,\u001b[0m \u001b[1;33m*\u001b[0m\u001b[0margs\u001b[0m\u001b[1;33m,\u001b[0m \u001b[1;33m**\u001b[0m\u001b[0mkwargs\u001b[0m\u001b[1;33m)\u001b[0m\u001b[1;33m:\u001b[0m\u001b[1;33m\u001b[0m\u001b[1;33m\u001b[0m\u001b[0m\n\u001b[0;32m    116\u001b[0m         \u001b[1;32mwith\u001b[0m \u001b[0mconfig_context\u001b[0m\u001b[1;33m(\u001b[0m\u001b[1;33m**\u001b[0m\u001b[0mself\u001b[0m\u001b[1;33m.\u001b[0m\u001b[0mconfig\u001b[0m\u001b[1;33m)\u001b[0m\u001b[1;33m:\u001b[0m\u001b[1;33m\u001b[0m\u001b[1;33m\u001b[0m\u001b[0m\n\u001b[1;32m--> 117\u001b[1;33m             \u001b[1;32mreturn\u001b[0m \u001b[0mself\u001b[0m\u001b[1;33m.\u001b[0m\u001b[0mfunction\u001b[0m\u001b[1;33m(\u001b[0m\u001b[1;33m*\u001b[0m\u001b[0margs\u001b[0m\u001b[1;33m,\u001b[0m \u001b[1;33m**\u001b[0m\u001b[0mkwargs\u001b[0m\u001b[1;33m)\u001b[0m\u001b[1;33m\u001b[0m\u001b[1;33m\u001b[0m\u001b[0m\n\u001b[0m\u001b[0;32m    118\u001b[0m \u001b[1;33m\u001b[0m\u001b[0m\n\u001b[0;32m    119\u001b[0m \u001b[1;33m\u001b[0m\u001b[0m\n",
      "\u001b[1;32mc:\\ProgramData\\Anaconda3\\lib\\site-packages\\sklearn\\ensemble\\_forest.py\u001b[0m in \u001b[0;36m_parallel_build_trees\u001b[1;34m(tree, bootstrap, X, y, sample_weight, tree_idx, n_trees, verbose, class_weight, n_samples_bootstrap)\u001b[0m\n\u001b[0;32m    183\u001b[0m             \u001b[0mcurr_sample_weight\u001b[0m \u001b[1;33m*=\u001b[0m \u001b[0mcompute_sample_weight\u001b[0m\u001b[1;33m(\u001b[0m\u001b[1;34m\"balanced\"\u001b[0m\u001b[1;33m,\u001b[0m \u001b[0my\u001b[0m\u001b[1;33m,\u001b[0m \u001b[0mindices\u001b[0m\u001b[1;33m=\u001b[0m\u001b[0mindices\u001b[0m\u001b[1;33m)\u001b[0m\u001b[1;33m\u001b[0m\u001b[1;33m\u001b[0m\u001b[0m\n\u001b[0;32m    184\u001b[0m \u001b[1;33m\u001b[0m\u001b[0m\n\u001b[1;32m--> 185\u001b[1;33m         \u001b[0mtree\u001b[0m\u001b[1;33m.\u001b[0m\u001b[0mfit\u001b[0m\u001b[1;33m(\u001b[0m\u001b[0mX\u001b[0m\u001b[1;33m,\u001b[0m \u001b[0my\u001b[0m\u001b[1;33m,\u001b[0m \u001b[0msample_weight\u001b[0m\u001b[1;33m=\u001b[0m\u001b[0mcurr_sample_weight\u001b[0m\u001b[1;33m,\u001b[0m \u001b[0mcheck_input\u001b[0m\u001b[1;33m=\u001b[0m\u001b[1;32mFalse\u001b[0m\u001b[1;33m)\u001b[0m\u001b[1;33m\u001b[0m\u001b[1;33m\u001b[0m\u001b[0m\n\u001b[0m\u001b[0;32m    186\u001b[0m     \u001b[1;32melse\u001b[0m\u001b[1;33m:\u001b[0m\u001b[1;33m\u001b[0m\u001b[1;33m\u001b[0m\u001b[0m\n\u001b[0;32m    187\u001b[0m         \u001b[0mtree\u001b[0m\u001b[1;33m.\u001b[0m\u001b[0mfit\u001b[0m\u001b[1;33m(\u001b[0m\u001b[0mX\u001b[0m\u001b[1;33m,\u001b[0m \u001b[0my\u001b[0m\u001b[1;33m,\u001b[0m \u001b[0msample_weight\u001b[0m\u001b[1;33m=\u001b[0m\u001b[0msample_weight\u001b[0m\u001b[1;33m,\u001b[0m \u001b[0mcheck_input\u001b[0m\u001b[1;33m=\u001b[0m\u001b[1;32mFalse\u001b[0m\u001b[1;33m)\u001b[0m\u001b[1;33m\u001b[0m\u001b[1;33m\u001b[0m\u001b[0m\n",
      "\u001b[1;32mc:\\ProgramData\\Anaconda3\\lib\\site-packages\\sklearn\\tree\\_classes.py\u001b[0m in \u001b[0;36mfit\u001b[1;34m(self, X, y, sample_weight, check_input)\u001b[0m\n\u001b[0;32m    887\u001b[0m         \"\"\"\n\u001b[0;32m    888\u001b[0m \u001b[1;33m\u001b[0m\u001b[0m\n\u001b[1;32m--> 889\u001b[1;33m         super().fit(\n\u001b[0m\u001b[0;32m    890\u001b[0m             \u001b[0mX\u001b[0m\u001b[1;33m,\u001b[0m\u001b[1;33m\u001b[0m\u001b[1;33m\u001b[0m\u001b[0m\n\u001b[0;32m    891\u001b[0m             \u001b[0my\u001b[0m\u001b[1;33m,\u001b[0m\u001b[1;33m\u001b[0m\u001b[1;33m\u001b[0m\u001b[0m\n",
      "\u001b[1;32mc:\\ProgramData\\Anaconda3\\lib\\site-packages\\sklearn\\tree\\_classes.py\u001b[0m in \u001b[0;36mfit\u001b[1;34m(self, X, y, sample_weight, check_input)\u001b[0m\n\u001b[0;32m    377\u001b[0m             )\n\u001b[0;32m    378\u001b[0m \u001b[1;33m\u001b[0m\u001b[0m\n\u001b[1;32m--> 379\u001b[1;33m         \u001b[0mbuilder\u001b[0m\u001b[1;33m.\u001b[0m\u001b[0mbuild\u001b[0m\u001b[1;33m(\u001b[0m\u001b[0mself\u001b[0m\u001b[1;33m.\u001b[0m\u001b[0mtree_\u001b[0m\u001b[1;33m,\u001b[0m \u001b[0mX\u001b[0m\u001b[1;33m,\u001b[0m \u001b[0my\u001b[0m\u001b[1;33m,\u001b[0m \u001b[0msample_weight\u001b[0m\u001b[1;33m)\u001b[0m\u001b[1;33m\u001b[0m\u001b[1;33m\u001b[0m\u001b[0m\n\u001b[0m\u001b[0;32m    380\u001b[0m \u001b[1;33m\u001b[0m\u001b[0m\n\u001b[0;32m    381\u001b[0m         \u001b[1;32mif\u001b[0m \u001b[0mself\u001b[0m\u001b[1;33m.\u001b[0m\u001b[0mn_outputs_\u001b[0m \u001b[1;33m==\u001b[0m \u001b[1;36m1\u001b[0m \u001b[1;32mand\u001b[0m \u001b[0mis_classifier\u001b[0m\u001b[1;33m(\u001b[0m\u001b[0mself\u001b[0m\u001b[1;33m)\u001b[0m\u001b[1;33m:\u001b[0m\u001b[1;33m\u001b[0m\u001b[1;33m\u001b[0m\u001b[0m\n",
      "\u001b[1;31mKeyboardInterrupt\u001b[0m: "
     ]
    }
   ],
   "source": [
    "clf = RandomForestClassifier(n_estimators=500, max_depth=3,random_state=42)\n",
    "clf.fit(x_train_tfidf, y_train)\n",
    "y_pred = clf.predict(x_dev_tfidf)\n",
    "print(classification_report(y_dev, y_pred))"
   ]
  },
  {
   "cell_type": "code",
   "execution_count": 44,
   "metadata": {},
   "outputs": [
    {
     "name": "stdout",
     "output_type": "stream",
     "text": [
      "              precision    recall  f1-score   support\n",
      "\n",
      "      advice       0.04      0.10      0.06        10\n",
      "   celebrity       0.68      0.84      0.75       142\n",
      "   info_news       0.70      0.74      0.72       543\n",
      "      others       0.17      0.12      0.14        17\n",
      "    personal       0.64      0.33      0.44       127\n",
      "        plan       0.17      0.05      0.08        82\n",
      "    requests       0.09      0.21      0.13        19\n",
      "restrictions       0.08      1.00      0.14         2\n",
      "      rumors       0.08      0.07      0.07        15\n",
      "   unrelated       0.27      0.29      0.28        34\n",
      "\n",
      "    accuracy                           0.59       991\n",
      "   macro avg       0.29      0.37      0.28       991\n",
      "weighted avg       0.59      0.59      0.58       991\n",
      "\n"
     ]
    }
   ],
   "source": [
    "clf = RandomForestClassifier(n_estimators=500, max_depth=3,random_state=42)\n",
    "clf.fit(x_train_bow, y_train)\n",
    "y_pred = clf.predict(x_dev_bow)\n",
    "print(classification_report(y_dev, y_pred))"
   ]
  },
  {
   "cell_type": "code",
   "execution_count": 17,
   "metadata": {},
   "outputs": [],
   "source": [
    "clf = MultinomialNB(alpha=0.01)\n",
    "clf.fit(x_train_tfidf, y_train)\n",
    "y_pred = clf.predict(x_test_tfidf)\n",
    "# print(classification_report(y_dev, y_pred))"
   ]
  },
  {
   "cell_type": "code",
   "execution_count": 18,
   "metadata": {},
   "outputs": [
    {
     "name": "stdout",
     "output_type": "stream",
     "text": [
      " 1    1675\n",
      " 0     234\n",
      "-1      91\n",
      "Name: stance, dtype: int64\n"
     ]
    }
   ],
   "source": [
    "df_test['stance'] = y_pred\n",
    "print(df_test['stance'].value_counts())\n",
    "df_test.to_csv('./Dataset/predictions.csv', index=False)"
   ]
  },
  {
   "cell_type": "code",
   "execution_count": 6,
   "metadata": {},
   "outputs": [],
   "source": [
    "clf = MultinomialNB(alpha=0.01)\n",
    "clf.fit(x_train_tfidf, y_train)\n",
    "y_pred = clf.predict(x_test_tfidf)\n",
    "# save the resurlt to a new csv file\n",
    "\n",
    "# print(classification_report(y_dev, y_pred))"
   ]
  },
  {
   "cell_type": "code",
   "execution_count": 8,
   "metadata": {},
   "outputs": [
    {
     "name": "stdout",
     "output_type": "stream",
     "text": [
      "info_news       1102\n",
      "personal         305\n",
      "celebrity        267\n",
      "plan             193\n",
      "unrelated         48\n",
      "requests          28\n",
      "others            27\n",
      "rumors            16\n",
      "restrictions       7\n",
      "advice             7\n",
      "Name: category, dtype: int64\n"
     ]
    }
   ],
   "source": [
    "df_test['category'] = y_pred\n",
    "print(df_test['category'].value_counts())\n",
    "df_test.to_csv('./Dataset/predictions.csv', index=False)"
   ]
  },
  {
   "cell_type": "code",
   "execution_count": 43,
   "metadata": {},
   "outputs": [
    {
     "name": "stdout",
     "output_type": "stream",
     "text": [
      "              precision    recall  f1-score   support\n",
      "\n",
      "      advice       0.20      0.20      0.20        10\n",
      "   celebrity       0.86      0.75      0.80       142\n",
      "   info_news       0.71      0.64      0.67       543\n",
      "      others       0.12      0.12      0.12        17\n",
      "    personal       0.48      0.61      0.54       127\n",
      "        plan       0.20      0.34      0.25        82\n",
      "    requests       0.14      0.11      0.12        19\n",
      "restrictions       0.00      0.00      0.00         2\n",
      "      rumors       0.00      0.00      0.00        15\n",
      "   unrelated       0.39      0.32      0.35        34\n",
      "\n",
      "    accuracy                           0.58       991\n",
      "   macro avg       0.31      0.31      0.31       991\n",
      "weighted avg       0.61      0.58      0.59       991\n",
      "\n"
     ]
    },
    {
     "name": "stderr",
     "output_type": "stream",
     "text": [
      "c:\\ProgramData\\Anaconda3\\lib\\site-packages\\sklearn\\metrics\\_classification.py:1344: UndefinedMetricWarning: Precision and F-score are ill-defined and being set to 0.0 in labels with no predicted samples. Use `zero_division` parameter to control this behavior.\n",
      "  _warn_prf(average, modifier, msg_start, len(result))\n",
      "c:\\ProgramData\\Anaconda3\\lib\\site-packages\\sklearn\\metrics\\_classification.py:1344: UndefinedMetricWarning: Precision and F-score are ill-defined and being set to 0.0 in labels with no predicted samples. Use `zero_division` parameter to control this behavior.\n",
      "  _warn_prf(average, modifier, msg_start, len(result))\n",
      "c:\\ProgramData\\Anaconda3\\lib\\site-packages\\sklearn\\metrics\\_classification.py:1344: UndefinedMetricWarning: Precision and F-score are ill-defined and being set to 0.0 in labels with no predicted samples. Use `zero_division` parameter to control this behavior.\n",
      "  _warn_prf(average, modifier, msg_start, len(result))\n"
     ]
    }
   ],
   "source": [
    "clf = MultinomialNB(alpha=0.01)\n",
    "clf.fit(x_train_bow, y_train)\n",
    "y_pred = clf.predict(x_dev_bow)\n",
    "print(classification_report(y_dev, y_pred))"
   ]
  },
  {
   "cell_type": "code",
   "execution_count": 9,
   "metadata": {},
   "outputs": [
    {
     "name": "stdout",
     "output_type": "stream",
     "text": [
      "              precision    recall  f1-score   support\n",
      "\n",
      "          -1       0.66      0.19      0.30       131\n",
      "           0       0.53      0.15      0.24       304\n",
      "           1       0.82      0.97      0.89      1662\n",
      "\n",
      "    accuracy                           0.81      2097\n",
      "   macro avg       0.67      0.44      0.47      2097\n",
      "weighted avg       0.77      0.81      0.76      2097\n",
      "\n"
     ]
    }
   ],
   "source": [
    "clf = Pipeline([\n",
    "    ('vectorizer_tfidf', TfidfVectorizer(ngram_range=(1,2), max_df=0.6)),\n",
    "    ('SVM', svm.SVC(kernel='linear', C=1.0, probability=True))\n",
    "])\n",
    "\n",
    "clf.fit(x_train, y_train)\n",
    "y_pred = clf.predict(x_test)\n",
    "print(classification_report(y_test, y_pred))"
   ]
  },
  {
   "cell_type": "code",
   "execution_count": 17,
   "metadata": {},
   "outputs": [
    {
     "name": "stdout",
     "output_type": "stream",
     "text": [
      "              precision    recall  f1-score   support\n",
      "\n",
      "          -1       1.00      0.01      0.02       131\n",
      "           0       0.69      0.07      0.13       304\n",
      "           1       0.80      1.00      0.89      1662\n",
      "\n",
      "    accuracy                           0.80      2097\n",
      "   macro avg       0.83      0.36      0.34      2097\n",
      "weighted avg       0.80      0.80      0.72      2097\n",
      "\n"
     ]
    }
   ],
   "source": [
    "clf = Pipeline([\n",
    "    ('vectorizer_tfidf', TfidfVectorizer(ngram_range=(1,1), max_df=0.5, min_df=2)),\n",
    "    ('multinomial_NB', MultinomialNB())\n",
    "])\n",
    "\n",
    "clf.fit(x_train, y_train)\n",
    "y_pred = clf.predict(x_test)\n",
    "print(classification_report(y_test, y_pred))"
   ]
  },
  {
   "cell_type": "code",
   "execution_count": 12,
   "metadata": {},
   "outputs": [
    {
     "name": "stdout",
     "output_type": "stream",
     "text": [
      "              precision    recall  f1-score   support\n",
      "\n",
      "          -1       0.66      0.16      0.26       131\n",
      "           0       0.52      0.12      0.19       304\n",
      "           1       0.82      0.98      0.89      1662\n",
      "\n",
      "    accuracy                           0.80      2097\n",
      "   macro avg       0.66      0.42      0.45      2097\n",
      "weighted avg       0.76      0.80      0.75      2097\n",
      "\n"
     ]
    }
   ],
   "source": [
    "clf = Pipeline([\n",
    "    ('vectorizer_tfidf', TfidfVectorizer(ngram_range=(1,1), max_df=0.5)),\n",
    "    ('ٌRandom Forest', RandomForestClassifier(n_estimators=100, random_state=2002))\n",
    "])\n",
    "\n",
    "clf.fit(x_train, y_train)\n",
    "y_pred = clf.predict(x_test)\n",
    "print(classification_report(y_test, y_pred))"
   ]
  }
 ],
 "metadata": {
  "kernelspec": {
   "display_name": "base",
   "language": "python",
   "name": "python3"
  },
  "language_info": {
   "codemirror_mode": {
    "name": "ipython",
    "version": 3
   },
   "file_extension": ".py",
   "mimetype": "text/x-python",
   "name": "python",
   "nbconvert_exporter": "python",
   "pygments_lexer": "ipython3",
   "version": "3.8.8 (default, Apr 13 2021, 15:08:03) [MSC v.1916 64 bit (AMD64)]"
  },
  "orig_nbformat": 4,
  "vscode": {
   "interpreter": {
    "hash": "ad2bdc8ecc057115af97d19610ffacc2b4e99fae6737bb82f5d7fb13d2f2c186"
   }
  }
 },
 "nbformat": 4,
 "nbformat_minor": 2
}
